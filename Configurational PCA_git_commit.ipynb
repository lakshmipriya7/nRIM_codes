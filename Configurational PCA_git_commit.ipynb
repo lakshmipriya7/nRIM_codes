{
 "cells": [
  {
   "cell_type": "code",
   "execution_count": 1,
   "id": "august-fiction",
   "metadata": {},
   "outputs": [],
   "source": [
    "import numpy as np #numpy for arrays\n",
    "\n",
    "import matplotlib.pyplot as plt #for plotting\n",
    "\n",
    "import seaborn as sns #for prettier plots\n",
    "sns.set_style('darkgrid') #darkgrid for easier readability of plots\n",
    "from mpl_toolkits import mplot3d #for 3d plots\n",
    "\n",
    "#seq_col_brew = sns.color_palette(\"Greys_r\", 20)\n",
    "#sns.set_palette(seq_col_brew)"
   ]
  },
  {
   "cell_type": "code",
   "execution_count": 2,
   "id": "medical-reference",
   "metadata": {},
   "outputs": [],
   "source": [
    "#stack overflow, thank youuuuu\n",
    "#An altered function to read matlab structures on python nd recast them into proper dictionaries\n",
    "import scipy.io as spio\n",
    "\n",
    "def loadmat(filename):\n",
    "    '''\n",
    "    this function should be called instead of direct spio.loadmat\n",
    "    as it cures the problem of not properly recovering python dictionaries\n",
    "    from mat files. It calls the function check keys to cure all entries\n",
    "    which are still mat-objects\n",
    "    '''\n",
    "    data = spio.loadmat(filename, struct_as_record=False, squeeze_me=True)\n",
    "    return _check_keys(data)\n",
    "\n",
    "def _check_keys(dict):\n",
    "    '''\n",
    "    checks if entries in dictionary are mat-objects. If yes\n",
    "    todict is called to change them to nested dictionaries\n",
    "    '''\n",
    "    for key in dict:\n",
    "        if isinstance(dict[key], spio.matlab.mio5_params.mat_struct):\n",
    "            dict[key] = _todict(dict[key])\n",
    "    return dict        \n",
    "\n",
    "def _todict(matobj):\n",
    "    '''\n",
    "    A recursive function which constructs from matobjects nested dictionaries\n",
    "    '''\n",
    "    dict = {}\n",
    "    for strg in matobj._fieldnames:\n",
    "        elem = matobj.__dict__[strg]\n",
    "        if isinstance(elem, spio.matlab.mio5_params.mat_struct):\n",
    "            dict[strg] = _todict(elem)\n",
    "        else:\n",
    "            dict[strg] = elem\n",
    "    return dict"
   ]
  },
  {
   "cell_type": "code",
   "execution_count": 3,
   "id": "sound-spending",
   "metadata": {},
   "outputs": [],
   "source": [
    "#testing the loadmat function\n",
    "test_mat = loadmat('/Users/lakshmipriyaswaminathan/Dropbox (OIST)/PILOT_S6_M6_MC10_TREADMILL_14_04_2020_processed_gapfilled.mat')\n",
    "\n"
   ]
  },
  {
   "cell_type": "code",
   "execution_count": 4,
   "id": "relevant-venture",
   "metadata": {},
   "outputs": [],
   "source": [
    "def access_data(mat_dictionary,type_data='trajectories',trajectories_masked=False):\n",
    "    \"\"\"A function to access the labeled trajectory data in the matlab structure after it\n",
    "    has been converted into a python dicitonary\"\"\"\n",
    "    \n",
    "    #first we obtain the keys of the dictionary. \n",
    "    #Due to the way in which QTM saves it's files, the fourth key (index 3) contains the data.\n",
    "    \n",
    "    keys = list(mat_dictionary.keys())\n",
    "    \n",
    "    if type_data == 'trajectories': #to access 3d trajectory data\n",
    "        trajectories = mat_dictionary[keys[3]]['Trajectories']['Labeled']['Data']\n",
    "        if trajectories_masked == True:\n",
    "            trajectories = np.ma.masked_invalid(trajectories)\n",
    "            #print('Masking trajectories')\n",
    "        else:\n",
    "            trajectories=trajectories\n",
    "        #print('Getting the trajectories!')\n",
    "        return trajectories\n",
    "    \n",
    "    elif type_data == 'labels': #to access label names\n",
    "        labels = mat_dictionary[keys[3]]['Trajectories']['Labeled']['Labels']\n",
    "        #print('Getting the marker labels!')\n",
    "        return labels\n",
    "        \n",
    "    elif type_data == 'frames':\n",
    "        frames = mat_dictionary[keys[3]]['Frames']\n",
    "        frame_rate = mat_dictionary[keys[3]]['FrameRate']\n",
    "        #print('Getting the frames and frame rate (in that order)!')\n",
    "        return frames, frame_rate\n",
    "    \n",
    "    elif type_data == 'everything':\n",
    "        frames = mat_dictionary[keys[3]]['Frames']\n",
    "        frame_rate = mat_dictionary[keys[3]]['FrameRate']\n",
    "        labels = mat_dictionary[keys[3]]['Trajectories']['Labeled']['Labels']\n",
    "        trajectories = mat_dictionary[keys[3]]['Trajectories']['Labeled']['Data']\n",
    "        #print('Getting the: 0. frames, 1. frame rate, 2. labels, and 3. trajectories!')\n",
    "        return frames, frame_rate, labels, trajectories\n",
    "    else:\n",
    "        raise ValueError('I can only access frames, frame rate, labels and trajectories')\n",
    "    \n",
    "        \n",
    "        \n"
   ]
  },
  {
   "cell_type": "code",
   "execution_count": 5,
   "id": "portable-studio",
   "metadata": {},
   "outputs": [],
   "source": [
    "marker_trajectories = access_data(test_mat, type_data='trajectories')"
   ]
  },
  {
   "cell_type": "code",
   "execution_count": 6,
   "id": "quick-excellence",
   "metadata": {},
   "outputs": [],
   "source": [
    "labels = access_data(test_mat, type_data='labels')"
   ]
  },
  {
   "cell_type": "code",
   "execution_count": 7,
   "id": "nasty-sound",
   "metadata": {},
   "outputs": [
    {
     "data": {
      "text/plain": [
       "array(['Coordinate_right', 'Hip_left', 'Hip_right', 'Knee_right',\n",
       "       'Ankle_right', 'Back_left', 'Back_right', 'Knee_left',\n",
       "       'Coordinate_left', 'Ankle_left'], dtype=object)"
      ]
     },
     "execution_count": 7,
     "metadata": {},
     "output_type": "execute_result"
    }
   ],
   "source": [
    "labels"
   ]
  },
  {
   "cell_type": "code",
   "execution_count": 8,
   "id": "controversial-commitment",
   "metadata": {},
   "outputs": [],
   "source": [
    "def single_marker_trajectories(mat_structure, marker_name, masked=False):\n",
    "    \"\"\"A function to access single marker trajectories and define them as arrays \n",
    "    that can be used in later analysis\"\"\"\n",
    "    \n",
    "    mls = access_data(mat_structure,type_data='labels') #accessing marker labels\n",
    "    #now we access the right trajectory\n",
    "    for i in range(len(mls)):\n",
    "        #print(mls[i])\n",
    "        if str(marker_name) == mls[i]:\n",
    "            #print(mls[i])\n",
    "            mi = i\n",
    "            #print(i)\n",
    "        #else:\n",
    "         #   return 'Something is wrong with the spelling'\n",
    "    #we access the trajectories\n",
    "    marker_traj = access_data(mat_structure,type_data='trajectories',trajectories_masked=masked)[mi]\n",
    "    \n",
    "    return marker_traj\n",
    "    "
   ]
  },
  {
   "cell_type": "code",
   "execution_count": 9,
   "id": "close-cambridge",
   "metadata": {},
   "outputs": [],
   "source": [
    "Coordinate_right_uma = single_marker_trajectories(test_mat, 'Coordinate_right', masked=False)\n",
    "Hip_left_uma = single_marker_trajectories(test_mat, 'Hip_left', masked=False)\n",
    "Hip_right_uma = single_marker_trajectories(test_mat, 'Hip_right', masked=False)\n",
    "Knee_right_uma = single_marker_trajectories(test_mat, 'Knee_right', masked=False)\n",
    "Ankle_right_uma = single_marker_trajectories(test_mat, 'Ankle_right', masked=False)\n",
    "Back_left_uma = single_marker_trajectories(test_mat, 'Back_left', masked=False)\n",
    "Back_right_uma = single_marker_trajectories(test_mat, 'Back_right', masked=False)\n",
    "Knee_left_uma = single_marker_trajectories(test_mat, 'Knee_left', masked=False)\n",
    "Coordinate_left_uma = single_marker_trajectories(test_mat, 'Coordinate_left', masked=False)\n",
    "Ankle_left_uma = single_marker_trajectories(test_mat, 'Ankle_left', masked=False)"
   ]
  },
  {
   "cell_type": "code",
   "execution_count": 10,
   "id": "incredible-album",
   "metadata": {},
   "outputs": [
    {
     "data": {
      "text/plain": [
       "(10, 4, 19500)"
      ]
     },
     "execution_count": 10,
     "metadata": {},
     "output_type": "execute_result"
    }
   ],
   "source": [
    "np.shape(marker_trajectories)"
   ]
  },
  {
   "cell_type": "code",
   "execution_count": 11,
   "id": "military-hydrogen",
   "metadata": {},
   "outputs": [],
   "source": [
    "single_frame = marker_trajectories[:,:3,4001]"
   ]
  },
  {
   "cell_type": "code",
   "execution_count": 12,
   "id": "destroyed-tutorial",
   "metadata": {},
   "outputs": [],
   "source": [
    "def PCA(timeseries):\n",
    "    #mean subtract things\n",
    "    a,b = np.shape(timeseries)\n",
    "    if a>b:\n",
    "        N=a\n",
    "        d=b\n",
    "        \n",
    "    else:\n",
    "        d=a\n",
    "        N=b\n",
    "        timeseries = np.transpose(timeseries)\n",
    "    timeseries_mean0 = np.zeros((N,d))\n",
    "    for i in range(d):\n",
    "        timeseries_mean0[:,i] = timeseries[:,i] - np.nanmean(timeseries[:,i])\n",
    "        print(i)\n",
    "        \n",
    "    #now after mean subtraction we get the covariance matrix of stuff\n",
    "    covT = np.cov(timeseries_mean0)\n",
    "    print('covariance_done')\n",
    "    \n",
    "    #finally PCA part\n",
    "    PCvecs,PCs, v = np.linalg.svd(covT)\n",
    "    #normalising the PCs\n",
    "    \n",
    "    normPCs = PCs/sum(PCs)\n",
    "    sortedpcs = (np.sort(normPCs))[::-1]\n",
    "    \n",
    "    return sortedpcs, PCvecs"
   ]
  },
  {
   "cell_type": "markdown",
   "id": "apparent-train",
   "metadata": {},
   "source": [
    "## Coordinate transform"
   ]
  },
  {
   "cell_type": "code",
   "execution_count": 13,
   "id": "desperate-monkey",
   "metadata": {},
   "outputs": [],
   "source": [
    "#First we need to define functions to compute midpoints between two markers, more specifically the hips\n",
    "def midpoint(marker1, marker2):\n",
    "    a1,b1 = np.shape(marker1)\n",
    "    a2,b2 = np.shape(marker2)\n",
    "    #another step to make sure that both timeseries have the same length\n",
    "    if b2!=b1:\n",
    "        if b2>b1:\n",
    "            marker2 = marker2[:,:b1]\n",
    "            dl = b1\n",
    "        elif b1>b2:\n",
    "            marker1 = marker1[:,:b2]\n",
    "            dl = b2\n",
    "        \n",
    "    \n",
    "    if a1>b1:\n",
    "        marker1 = np.transpose(marker1)\n",
    "    if a2>b2:\n",
    "        marker2 = np.transpose(marker2)\n",
    "    if a2!=a1:\n",
    "        raise ValueError('Dimensions don\\'t match!')\n",
    "    \n",
    "        \n",
    "    #now we define a dummy array for the mid point\n",
    "    midpoint_array = (marker1+marker2)/2\n",
    "    midpoint_array_masked = ma.masked_invalid(midpoint_array)\n",
    "    return midpoint_array_masked\n",
    "    "
   ]
  },
  {
   "cell_type": "code",
   "execution_count": 14,
   "id": "unknown-living",
   "metadata": {},
   "outputs": [],
   "source": [
    "#now I define the vectors!\n",
    "def basisvectors(m1,m2,m3,m4,ankle_l,ankle_r):\n",
    "    #the idea is as follows: we define two vectors on the mouse body using the markers we already have\n",
    "    #we need three markers to define this, the third vector we pick in such a way \n",
    "    #that the third makes them a set of linearly independent vectors,\n",
    "    #we can now use these as our transformation matrix and transform all the other trajectory point suing that\n",
    "    \n",
    "    #easy part defining the two vectors\n",
    "    #m1,m2,m3,m4 = coord_system #extracting the 3 markers from the array\n",
    "    \n",
    "    midpoint1 = (m1+m2)/2 #the two hip markers\n",
    "    midpoint2 = (m3+m4)/2 #the two back markers\n",
    "    ankle = (ankle_l +ankle_r)/2\n",
    "    #now we define the directional vector between these two midpoints, the other vector is between the hip markers\n",
    "    hh = (midpoint1 - m2)\n",
    "    hb = midpoint2 - midpoint1\n",
    "    #that gives us two vectors out of the 3\n",
    "    #now we compute the cross product, and the right hand rule will help! m1 should be the right hip :) nopeee\n",
    "    #need to use the ankle to decide what's going on\n",
    "    \n",
    "    hu_1 = np.cross(hh,hb)\n",
    "    hu_2 = np.cross(hb,hh)\n",
    "    #we check the projection on the vector \n",
    "    ha = ankle - midpoint1\n",
    "    proj_ha_hu_1 = np.dot(ha,hu_1)/np.dot(ha,ha)\n",
    "    #print(proj_ha_hu_1)\n",
    "    \n",
    "    proj_ha_hu_2 = np.dot(ha,hu_2)/np.dot(ha,ha)\n",
    "    #print(proj_ha_hu_2)\n",
    "    if proj_ha_hu_1 <0: #i.e the z direction is the oppostie\n",
    "        hu = hu_1\n",
    "    elif proj_ha_hu_2 <0:\n",
    "        hu = hu_2\n",
    "    else:\n",
    "        raise ValueError('Something is wrong....?')\n",
    "    #we normalise each vector!!\n",
    "    hh_norm = hh/np.linalg.norm(hh)\n",
    "    hb_norm = hb/np.linalg.norm(hb)\n",
    "    hu_norm = hu/np.linalg.norm(hu)\n",
    "    \n",
    "    #finally we combine the 3 vectors two get our basis set\n",
    "    basis_set = np.transpose(np.vstack((hh_norm,hb_norm,hu_norm)))\n",
    "    return basis_set, midpoint1\n",
    "    #we have to loop over this somehow...\n",
    "    "
   ]
  },
  {
   "cell_type": "code",
   "execution_count": null,
   "id": "behind-order",
   "metadata": {},
   "outputs": [],
   "source": []
  },
  {
   "cell_type": "code",
   "execution_count": 15,
   "id": "exclusive-dodge",
   "metadata": {},
   "outputs": [],
   "source": [
    "#ok so all of the above gives us a timeseries of the vectors that we need that are not orthonormal, \n",
    "#so after every transformation matrix that we compute I need to orthogonalize them\n",
    "def gram_schmidt_orthogonalisation(vectors):\n",
    "    \"\"\"A function to orthogonalise a set of given vectors\"\"\"\n",
    "    #we are only considering 3d here\n",
    "    ov1 = vectors[:,0]\n",
    "    proj_v1_v2 = gram_schmidt_coefficient(vectors[:,0],vectors[:,1])\n",
    "    ov2 = vectors[:,1] - proj_v1_v2\n",
    "    proj_v1_v3 = gram_schmidt_coefficient(vectors[:,0],vectors[:,2])\n",
    "    proj_v2_v3 = gram_schmidt_coefficient(vectors[:,1], vectors[:,2])\n",
    "    ov3 = vectors[:,2] - proj_v1_v3 - proj_v2_v3\n",
    "    return np.transpose(np.vstack((ov1,ov2,ov3)))"
   ]
  },
  {
   "cell_type": "code",
   "execution_count": 16,
   "id": "annoying-plaza",
   "metadata": {},
   "outputs": [],
   "source": [
    "test_ct, test_o = basisvectors(Hip_left_uma[:3,1500],Hip_right_uma[:3,1500],Coordinate_left_uma[:3,1500],Coordinate_right_uma[:3,1500],Ankle_left_uma[:3,1500], Ankle_right_uma[:3,1500])"
   ]
  },
  {
   "cell_type": "code",
   "execution_count": 17,
   "id": "pending-sheriff",
   "metadata": {},
   "outputs": [
    {
     "data": {
      "text/plain": [
       "(array([[-0.16822348, -0.90258774,  0.29024717],\n",
       "        [-0.88485163,  0.1570565 , -0.46564589],\n",
       "        [-0.4344404 ,  0.40083491,  0.83602063]]),\n",
       " array([282.67631769,  12.27589121,   6.66017906]))"
      ]
     },
     "execution_count": 17,
     "metadata": {},
     "output_type": "execute_result"
    }
   ],
   "source": [
    "test_ct, test_o"
   ]
  },
  {
   "cell_type": "code",
   "execution_count": 18,
   "id": "exterior-yellow",
   "metadata": {},
   "outputs": [],
   "source": [
    "def gram_schmidt_coefficient(v1,v2):\n",
    "    \"\"\"Computes the projection of v1 on v2\"\"\"\n",
    "    gsc = (np.dot(v1,v2)/np.dot(v1,v1))*(v1)\n",
    "    \n",
    "    return gsc"
   ]
  },
  {
   "cell_type": "code",
   "execution_count": 23,
   "id": "reasonable-yield",
   "metadata": {},
   "outputs": [],
   "source": [
    "test_ct_ortho = gram_schmidt_orthogonalisation(test_ct)"
   ]
  },
  {
   "cell_type": "code",
   "execution_count": 24,
   "id": "personalized-diamond",
   "metadata": {},
   "outputs": [],
   "source": [
    "test_ct_ortho_qr = np.linalg.qr(test_ct)[0]"
   ]
  },
  {
   "cell_type": "code",
   "execution_count": 25,
   "id": "domestic-shock",
   "metadata": {},
   "outputs": [
    {
     "data": {
      "text/plain": [
       "array([[-0.16822348, -0.92971784,  0.29024717],\n",
       "       [-0.88485163,  0.01435282, -0.46564589],\n",
       "       [-0.4344404 ,  0.33077092,  0.83602063]])"
      ]
     },
     "execution_count": 25,
     "metadata": {},
     "output_type": "execute_result"
    }
   ],
   "source": [
    "test_ct_ortho"
   ]
  },
  {
   "cell_type": "code",
   "execution_count": 26,
   "id": "caring-indonesia",
   "metadata": {},
   "outputs": [
    {
     "data": {
      "text/plain": [
       "array([[-0.16822348,  0.9420496 ,  0.29024717],\n",
       "       [-0.88485163, -0.0145432 , -0.46564589],\n",
       "       [-0.4344404 , -0.33515825,  0.83602063]])"
      ]
     },
     "execution_count": 26,
     "metadata": {},
     "output_type": "execute_result"
    }
   ],
   "source": [
    "test_ct_ortho_qr"
   ]
  },
  {
   "cell_type": "code",
   "execution_count": 27,
   "id": "baking-junior",
   "metadata": {},
   "outputs": [
    {
     "data": {
      "text/plain": [
       "3"
      ]
     },
     "execution_count": 27,
     "metadata": {},
     "output_type": "execute_result"
    }
   ],
   "source": [
    "np.linalg.matrix_rank(test_ct_ortho_qr)"
   ]
  },
  {
   "cell_type": "code",
   "execution_count": 28,
   "id": "electrical-namibia",
   "metadata": {},
   "outputs": [],
   "source": [
    "def basisvectors_time(m1,m2,m3,m4,al,ar):\n",
    "    #each of the marker trajectories has to be 3xN\n",
    "    #we check this\n",
    "    a1,b1 = np.shape(m1)\n",
    "    a2,b2 = np.shape(m2)\n",
    "    a3,b3 = np.shape(m3)\n",
    "    a4,b4 = np.shape(m4)\n",
    "    if a1>b1:\n",
    "        m1 = np.transpose(m1)\n",
    "        N = a1\n",
    "    elif a1<b1:\n",
    "        N = b1\n",
    "    if a2>b2:\n",
    "        m2 = np.transpose(m2)\n",
    "    if a3>b3:\n",
    "        m3 = np.transpose(m3)\n",
    "    if a4>b4:\n",
    "        m4 = np.transpose(m4)\n",
    "    # now we loop over N\n",
    "    #computing the origin through time as well\n",
    "    origin_ts = []\n",
    "    T_matrix = []\n",
    "    for i in range(N):\n",
    "        ct_m= basisvectors(m1[:,i],m2[:,i],m3[:,i],m4[:,i],al[:,i],ar[:,i])\n",
    "        ct_matrix = np.linalg.qr(ct_m[0])[0]\n",
    "        if np.linalg.matrix_rank(ct_matrix) != 3:\n",
    "            print (i)\n",
    "            raise ValueError('Rank deficient matrix')\n",
    "        T_matrix.append(ct_matrix)\n",
    "        origin_ts.append(ct_m[1])\n",
    "        \n",
    "    return np.array(T_matrix), np.transpose(np.array(origin_ts))"
   ]
  },
  {
   "cell_type": "code",
   "execution_count": 29,
   "id": "automated-champion",
   "metadata": {},
   "outputs": [],
   "source": [
    "test_ct_time, test_o_time = basisvectors_time(Hip_left_uma[:3,1500:],Hip_right_uma[:3,1500:],Coordinate_left_uma[:3,1500:],Coordinate_right_uma[:3,1500:],Ankle_left_uma[:3,1500:],Ankle_right_uma[:3,1500:])"
   ]
  },
  {
   "cell_type": "code",
   "execution_count": 30,
   "id": "valid-benchmark",
   "metadata": {},
   "outputs": [
    {
     "data": {
      "text/plain": [
       "(18000, 3, 3)"
      ]
     },
     "execution_count": 30,
     "metadata": {},
     "output_type": "execute_result"
    }
   ],
   "source": [
    "np.shape(test_ct_time)"
   ]
  },
  {
   "cell_type": "code",
   "execution_count": 31,
   "id": "powered-immune",
   "metadata": {},
   "outputs": [
    {
     "data": {
      "text/plain": [
       "(3, 18000)"
      ]
     },
     "execution_count": 31,
     "metadata": {},
     "output_type": "execute_result"
    }
   ],
   "source": [
    "np.shape(test_o_time)"
   ]
  },
  {
   "cell_type": "code",
   "execution_count": 32,
   "id": "postal-terrorism",
   "metadata": {},
   "outputs": [
    {
     "data": {
      "text/plain": [
       "array([-0.96497574, -5.07575022, -2.49206857])"
      ]
     },
     "execution_count": 32,
     "metadata": {},
     "output_type": "execute_result"
    }
   ],
   "source": [
    "Hip_left_uma[:3,1500] - test_o_time[:,0]"
   ]
  },
  {
   "cell_type": "code",
   "execution_count": 33,
   "id": "binding-welcome",
   "metadata": {},
   "outputs": [],
   "source": [
    "def coordinate_transform(tmatrix,torigin,trajectory):\n",
    "    #the trajectory is a 1,3,N shaped array, so we loop over N\n",
    "    #the tmatrix is 3*3,N, each column an animal centric basis vector\n",
    "    a,b = np.shape(trajectory)\n",
    "    if a>b:\n",
    "        trajectory = np.transpose(trajectory)\n",
    "        d = b\n",
    "        a = N\n",
    "    elif b>a:\n",
    "        d = a\n",
    "        N = b\n",
    "    #now we loop over N\n",
    "    coord_trans_traj = []\n",
    "    for i in range(N):\n",
    "        trajectory_0 = trajectory[:,i] - torigin[:,i]\n",
    "        coord_trans_traj.append(np.matmul(tmatrix[i,:,:],trajectory_0))\n",
    "    return np.transpose(coord_trans_traj)\n",
    "\n",
    "\n",
    "        "
   ]
  },
  {
   "cell_type": "code",
   "execution_count": 34,
   "id": "sound-negotiation",
   "metadata": {},
   "outputs": [],
   "source": [
    "test_coordinate_transform = coordinate_transform(test_ct_time,test_o_time ,Hip_left_uma[:3,1500:])"
   ]
  },
  {
   "cell_type": "code",
   "execution_count": 35,
   "id": "ruled-consent",
   "metadata": {},
   "outputs": [],
   "source": [
    "ankle_ct = coordinate_transform(test_ct_time, test_o_time,Ankle_left_uma[:3,1500:])"
   ]
  },
  {
   "cell_type": "code",
   "execution_count": 36,
   "id": "active-courage",
   "metadata": {},
   "outputs": [
    {
     "data": {
      "text/plain": [
       "(3, 18000)"
      ]
     },
     "execution_count": 36,
     "metadata": {},
     "output_type": "execute_result"
    }
   ],
   "source": [
    "np.shape(test_coordinate_transform)"
   ]
  },
  {
   "cell_type": "code",
   "execution_count": 37,
   "id": "attempted-relief",
   "metadata": {},
   "outputs": [],
   "source": [
    "#for i in range(3):\n",
    " #       ankle_ct[:,i] = ankle_ct[:,i] - np.nanmean(ankle_ct[:,i])"
   ]
  },
  {
   "cell_type": "code",
   "execution_count": 38,
   "id": "fitting-defensive",
   "metadata": {},
   "outputs": [
    {
     "data": {
      "text/plain": [
       "array([[-0.01961141, -0.81326977,  0.58155625],\n",
       "       [ 0.78611668, -0.37194732, -0.49363524],\n",
       "       [ 0.61776691,  0.44749018,  0.64661935]])"
      ]
     },
     "execution_count": 38,
     "metadata": {},
     "output_type": "execute_result"
    }
   ],
   "source": [
    "test_ct_time[7989]"
   ]
  },
  {
   "cell_type": "code",
   "execution_count": 39,
   "id": "ruled-fields",
   "metadata": {},
   "outputs": [
    {
     "data": {
      "text/plain": [
       "array([[-0.05478665, -0.74597629,  0.66371515],\n",
       "       [ 0.82740101, -0.4060064 , -0.38802884],\n",
       "       [ 0.55893291,  0.52789978,  0.63946526]])"
      ]
     },
     "execution_count": 39,
     "metadata": {},
     "output_type": "execute_result"
    }
   ],
   "source": [
    "test_ct_time[7898]"
   ]
  },
  {
   "cell_type": "code",
   "execution_count": 40,
   "id": "controlling-shower",
   "metadata": {},
   "outputs": [],
   "source": [
    "#let's do it for all of them\n",
    "\n",
    "Hip_left_ct = coordinate_transform(test_ct_time,test_o_time, Hip_left_uma[:3,1500:])\n",
    "Hip_right_ct = coordinate_transform(test_ct_time, test_o_time,Hip_right_uma[:3,1500:])\n",
    "Coordinate_left_ct = coordinate_transform(test_ct_time,test_o_time, Coordinate_left_uma[:3,1500:])\n",
    "Coordinate_right_ct = coordinate_transform(test_ct_time, test_o_time,Coordinate_right_uma[:3,1500:])\n",
    "Back_left_ct = coordinate_transform(test_ct_time, test_o_time,Back_left_uma[:3,1500:])\n",
    "Back_right_ct = coordinate_transform(test_ct_time, test_o_time,Back_right_uma[:3,1500:])\n",
    "Knee_left_ct = coordinate_transform(test_ct_time, test_o_time,Knee_left_uma[:3,1500:])\n",
    "Knee_right_ct = coordinate_transform(test_ct_time, test_o_time,Knee_right_uma[:3,1500:])\n",
    "Ankle_left_ct = coordinate_transform(test_ct_time, test_o_time,Ankle_left_uma[:3,1500:])\n",
    "Ankle_right_ct = coordinate_transform(test_ct_time, test_o_time,Ankle_right_uma[:3,1500:])"
   ]
  },
  {
   "cell_type": "code",
   "execution_count": 41,
   "id": "technical-colony",
   "metadata": {},
   "outputs": [
    {
     "data": {
      "image/png": "[encoded data removed]",
      "text/plain": [
       "<Figure size 432x288 with 1 Axes>"
      ]
     },
     "metadata": {},
     "output_type": "display_data"
    }
   ],
   "source": [
    "fig4 = plt.figure(4)\n",
    "\n",
    "#plt.plot(test_coordinate_transform[0])\n",
    "#plt.plot(Hip_left_uma[0,1500:])\n",
    "#plt.plot(test_coordinate_transform[1])\n",
    "plt.plot(test_coordinate_transform[1])\n",
    "\n",
    "#plt.plot(Hip_right_ct[0])\n",
    "#plt.plot(Hip_right_ct[1])\n",
    "plt.plot(Hip_right_ct[1])\n",
    "#plt.plot(ankle_ct[0])\n",
    "#plt.plot(ankle_ct[1])\n",
    "#plt.plot(ankle_ct[2])\n",
    "#plt.plot(Ankle_left_uma[0,1500:])\n",
    "plt.show()"
   ]
  },
  {
   "cell_type": "code",
   "execution_count": 42,
   "id": "regulation-semiconductor",
   "metadata": {},
   "outputs": [],
   "source": [
    "ct_marker_traj = np.array([Hip_left_ct,Hip_right_ct,Coordinate_left_ct,Coordinate_right_ct,Back_left_ct,Back_right_ct,Knee_left_ct,Knee_right_ct,Ankle_left_ct,Ankle_right_ct])"
   ]
  },
  {
   "cell_type": "code",
   "execution_count": 43,
   "id": "altered-spider",
   "metadata": {},
   "outputs": [
    {
     "data": {
      "text/plain": [
       "(3, 18000)"
      ]
     },
     "execution_count": 43,
     "metadata": {},
     "output_type": "execute_result"
    }
   ],
   "source": [
    "np.shape(Hip_right_ct)"
   ]
  },
  {
   "cell_type": "code",
   "execution_count": 44,
   "id": "vital-ozone",
   "metadata": {},
   "outputs": [
    {
     "name": "stdout",
     "output_type": "stream",
     "text": [
      "-3.2412702538492635\n",
      "2.17663862886468\n",
      "-0.4894343024692982\n"
     ]
    }
   ],
   "source": [
    "for i in range(3):\n",
    "    print(np.mean(Hip_left_ct[i,:]))"
   ]
  },
  {
   "cell_type": "code",
   "execution_count": 45,
   "id": "mathematical-thursday",
   "metadata": {},
   "outputs": [],
   "source": [
    "Ankle = (Ankle_left_uma[:3,1500:] + Ankle_right_uma[:3,1500:])/2"
   ]
  },
  {
   "cell_type": "code",
   "execution_count": 46,
   "id": "comparable-genetics",
   "metadata": {},
   "outputs": [],
   "source": [
    "labels_sf = ['H_l','H_r','C_l','C_r','B_l','B_r','K_l','K_r','A_l','A_r']"
   ]
  },
  {
   "cell_type": "code",
   "execution_count": 47,
   "id": "silent-equation",
   "metadata": {},
   "outputs": [
    {
     "name": "stdout",
     "output_type": "stream",
     "text": [
      "Using matplotlib backend: MacOSX\n"
     ]
    }
   ],
   "source": [
    "%matplotlib"
   ]
  },
  {
   "cell_type": "code",
   "execution_count": 48,
   "id": "hydraulic-craps",
   "metadata": {},
   "outputs": [
    {
     "data": {
      "text/plain": [
       "Text(0.5, 0, 'Z')"
      ]
     },
     "execution_count": 48,
     "metadata": {},
     "output_type": "execute_result"
    }
   ],
   "source": [
    "fig6 = plt.figure(6)\n",
    "ax = plt.axes(projection='3d')\n",
    "\n",
    "#ax.plot3D(Ankle[0,:],Ankle[1,:],Ankle[2,:])\n",
    "#ax.plot3D(Ankle_left_uma[0,1500:],Ankle_left_uma[1,1500:],Ankle_left_uma[3,1500:])\n",
    "#ax.plot3D(Ankle_right_uma[0,1500:],Ankle_right_uma[1,1500:],Ankle_right_uma[3,1500:])\n",
    "\n",
    "#ax.plot3D(Hip_left_ct[0,:],Hip_left_ct[1,:],Hip_left_ct[2,:])\n",
    "#ax.plot3D(Hip_right_ct[0,:],Hip_right_ct[1,:],Hip_right_ct[2,:])\n",
    "#ax.plot3D(Coordinate_left_ct[0,:],Coordinate_left_ct[1,:],Coordinate_left_ct[2,:])\n",
    "#ax.plot3D(Coordinate_right_ct[0,:],Coordinate_right_ct[1,:],Coordinate_right_ct[2,:])\n",
    "#ax.plot3D(Knee_left_ct[0,:],Knee_left_ct[1,:],Knee_left_ct[2,:])\n",
    "#ax.plot3D(Knee_right_ct[0,:],Knee_right_ct[1,:],Knee_right_ct[2,:])\n",
    "#ax.plot3D(Back_left_ct[0,:],Back_left_ct[1,:],Back_left_ct[2,:])\n",
    "#ax.plot3D(Back_right_ct[0,:],Back_right_ct[1,:],Back_right_ct[2,:])\n",
    "#ax.plot3D(Ankle_left_ct[0,:],Ankle_left_ct[1,:],Ankle_left_ct[2,:])\n",
    "ax.scatter(ct_marker_traj[:,0,7],ct_marker_traj[:,1,7],ct_marker_traj[:,2,7])\n",
    "for i in range(10):\n",
    "    ax.text(ct_marker_traj[i,0,7], ct_marker_traj[i,1,7], ct_marker_traj[i,2,7], '%s' % (labels_sf[i]), size=10, zorder=1, color='k')\n",
    "\n",
    "\n",
    "ax.set_xlabel('X')\n",
    "ax.set_ylabel('Y')\n",
    "ax.set_zlabel('Z')"
   ]
  },
  {
   "cell_type": "markdown",
   "id": "peaceful-dover",
   "metadata": {},
   "source": [
    "# Plotting the Mean pose"
   ]
  },
  {
   "cell_type": "code",
   "execution_count": 49,
   "id": "uniform-legislation",
   "metadata": {},
   "outputs": [],
   "source": [
    "def mean_marker_pos(markertrajectory):\n",
    "    a,b = np.shape(markertrajectory)\n",
    "    if a<b:\n",
    "        timeseries = markertrajectory\n",
    "        dim = a\n",
    "        timelen = b\n",
    "    elif b<a:\n",
    "        dim = b\n",
    "        timelen = a\n",
    "        timeseries = np.transpose(markertrajectory)\n",
    "    else:\n",
    "        raise ValueError(\"The timeseries seems to be too short\")\n",
    "    marker_mean = []\n",
    "    for i in range(dim):\n",
    "        marker_mean.append(np.mean(timeseries[i,:]))\n",
    "    return marker_mean\n",
    "    "
   ]
  },
  {
   "cell_type": "code",
   "execution_count": 50,
   "id": "acting-survey",
   "metadata": {},
   "outputs": [],
   "source": [
    "mean_pose = np.empty((3,10))"
   ]
  },
  {
   "cell_type": "code",
   "execution_count": 51,
   "id": "vocal-simulation",
   "metadata": {},
   "outputs": [],
   "source": [
    "for i in range(10):\n",
    "    mean_pose[:,i] = mean_marker_pos(ct_marker_traj[i])"
   ]
  },
  {
   "cell_type": "code",
   "execution_count": 52,
   "id": "dense-engineer",
   "metadata": {},
   "outputs": [
    {
     "data": {
      "text/plain": [
       "(3, 10)"
      ]
     },
     "execution_count": 52,
     "metadata": {},
     "output_type": "execute_result"
    }
   ],
   "source": [
    "np.shape(mean_pose)"
   ]
  },
  {
   "cell_type": "code",
   "execution_count": null,
   "id": "adverse-vocabulary",
   "metadata": {},
   "outputs": [],
   "source": []
  },
  {
   "cell_type": "code",
   "execution_count": 53,
   "id": "reflected-usage",
   "metadata": {},
   "outputs": [],
   "source": [
    "ct_markertrajectories= np.reshape(ct_marker_traj[:,:,:],(30,18000))"
   ]
  },
  {
   "cell_type": "code",
   "execution_count": 54,
   "id": "other-opera",
   "metadata": {},
   "outputs": [],
   "source": [
    "mean_pose_meh = []"
   ]
  },
  {
   "cell_type": "code",
   "execution_count": 55,
   "id": "latter-strain",
   "metadata": {},
   "outputs": [],
   "source": [
    "for i in range(30):\n",
    "    mean_pose_meh.append(np.mean(ct_markertrajectories[i,:]))"
   ]
  },
  {
   "cell_type": "code",
   "execution_count": 56,
   "id": "australian-security",
   "metadata": {},
   "outputs": [
    {
     "name": "stdout",
     "output_type": "stream",
     "text": [
      "-3.2412702538492635\n",
      "2.17663862886468\n",
      "-0.4894343024692982\n",
      "3.2412702538492635\n",
      "-2.17663862886468\n",
      "0.4894343024692982\n",
      "1.0091918314864265\n",
      "2.489746861761021\n",
      "4.356525580278585\n",
      "6.958451380582573\n",
      "-1.2316347199533204\n",
      "4.871536232143295\n",
      "8.536610261418478\n",
      "14.285931938944149\n",
      "9.250507112524705\n",
      "14.702737859257235\n",
      "12.485984153176295\n",
      "10.433296212582341\n",
      "-7.195580680125672\n",
      "12.56519123479777\n",
      "-2.2907429794615037\n",
      "9.237042853157897\n",
      "4.291232367343567\n",
      "-4.128618384944368\n",
      "-9.529056288914282\n",
      "12.215441340237138\n",
      "-8.765871124885079\n",
      "4.802461190899704\n",
      "4.397519542121303\n",
      "-11.68662422899364\n"
     ]
    }
   ],
   "source": [
    "for i in range(30):\n",
    "    print(mean_pose_meh[i])"
   ]
  },
  {
   "cell_type": "code",
   "execution_count": 57,
   "id": "bizarre-jesus",
   "metadata": {},
   "outputs": [],
   "source": [
    "mean_pose_meh_rs = np.reshape(mean_pose_meh,(10,3))"
   ]
  },
  {
   "cell_type": "code",
   "execution_count": 58,
   "id": "royal-blanket",
   "metadata": {},
   "outputs": [],
   "source": [
    " for i in range(30):\n",
    "         ct_markertrajectories[i,:] = ct_markertrajectories[i,:] - np.nanmean(ct_markertrajectories[i,:])"
   ]
  },
  {
   "cell_type": "code",
   "execution_count": 59,
   "id": "julian-recipe",
   "metadata": {},
   "outputs": [],
   "source": [
    "mean_posemeh_ar = np.array(mean_pose_meh_rs)"
   ]
  },
  {
   "cell_type": "code",
   "execution_count": null,
   "id": "blank-powell",
   "metadata": {},
   "outputs": [],
   "source": []
  },
  {
   "cell_type": "code",
   "execution_count": 60,
   "id": "academic-compromise",
   "metadata": {},
   "outputs": [],
   "source": [
    "fig19 = plt.figure(19)\n",
    "ax = plt.axes(projection='3d')\n",
    "for i in range(10):\n",
    "    ax.scatter(mean_posemeh_ar[i,0],mean_posemeh_ar[i,1],mean_posemeh_ar[i,2])\n",
    "    ax.text(mean_posemeh_ar[i,0], mean_posemeh_ar[i,1], mean_posemeh_ar[i,2], '%s' % (labels_sf[i]), size=10, zorder=1, color='k')\n"
   ]
  },
  {
   "cell_type": "code",
   "execution_count": 61,
   "id": "contemporary-final",
   "metadata": {},
   "outputs": [
    {
     "data": {
      "text/plain": [
       "(10, 3, 18000)"
      ]
     },
     "execution_count": 61,
     "metadata": {},
     "output_type": "execute_result"
    }
   ],
   "source": [
    "np.shape(ct_marker_traj)"
   ]
  },
  {
   "cell_type": "code",
   "execution_count": 62,
   "id": "ceramic-thread",
   "metadata": {},
   "outputs": [
    {
     "data": {
      "text/plain": [
       "array([[-2.10132247e+00, -2.15450805e+00, -2.50405136e+00,\n",
       "        -2.55441311e+00, -3.17527990e+00, -2.78243724e+00,\n",
       "        -2.82252926e+00, -2.86293207e+00,  7.29227560e+00,\n",
       "         7.21638303e+00],\n",
       "       [-8.85391470e-02, -2.18456191e-01, -3.80973819e-01,\n",
       "        -5.74048290e-01, -1.03376487e+00, -1.18820951e+00,\n",
       "        -1.46942992e+00, -1.75556277e+00,  4.70063956e-03,\n",
       "         2.18003315e-01],\n",
       "       [ 5.26417600e-01,  4.25556024e-01,  4.86460504e-01,\n",
       "         4.12934469e-01,  2.24018149e-01,  2.83040620e-01,\n",
       "         1.63524602e-01,  4.20790253e-02, -3.57366118e+00,\n",
       "        -3.55105777e+00]])"
      ]
     },
     "execution_count": 62,
     "metadata": {},
     "output_type": "execute_result"
    }
   ],
   "source": [
    "ct_marker_traj[0,:,:10]"
   ]
  },
  {
   "cell_type": "code",
   "execution_count": 63,
   "id": "electrical-welsh",
   "metadata": {},
   "outputs": [
    {
     "data": {
      "text/plain": [
       "array([[-2.10132247e+00, -2.15450805e+00, -2.50405136e+00,\n",
       "        -2.55441311e+00, -3.17527990e+00, -2.78243724e+00,\n",
       "        -2.82252926e+00, -2.86293207e+00,  7.29227560e+00,\n",
       "         7.21638303e+00],\n",
       "       [-8.85391470e-02, -2.18456191e-01, -3.80973819e-01,\n",
       "        -5.74048290e-01, -1.03376487e+00, -1.18820951e+00,\n",
       "        -1.46942992e+00, -1.75556277e+00,  4.70063956e-03,\n",
       "         2.18003315e-01],\n",
       "       [ 5.26417600e-01,  4.25556024e-01,  4.86460504e-01,\n",
       "         4.12934469e-01,  2.24018149e-01,  2.83040620e-01,\n",
       "         1.63524602e-01,  4.20790253e-02, -3.57366118e+00,\n",
       "        -3.55105777e+00]])"
      ]
     },
     "execution_count": 63,
     "metadata": {},
     "output_type": "execute_result"
    }
   ],
   "source": [
    "ct_markertrajectories[:3,:10]"
   ]
  },
  {
   "cell_type": "code",
   "execution_count": 64,
   "id": "passing-morgan",
   "metadata": {},
   "outputs": [
    {
     "name": "stdout",
     "output_type": "stream",
     "text": [
      "1.4526651486650938e-16\n",
      "-2.021099337273174e-16\n",
      "7.579122514774402e-17\n"
     ]
    }
   ],
   "source": [
    "#mean pose\n",
    "for i in range(3):\n",
    "    print(np.mean(ct_markertrajectories[i,:]))\n",
    "    "
   ]
  },
  {
   "cell_type": "code",
   "execution_count": 65,
   "id": "retained-numbers",
   "metadata": {},
   "outputs": [],
   "source": [
    "# ct_pcanalysis = PCA(ct_markertrajectories)"
   ]
  },
  {
   "cell_type": "code",
   "execution_count": 66,
   "id": "acceptable-seeker",
   "metadata": {},
   "outputs": [],
   "source": [
    "ct_cov = np.cov(ct_markertrajectories)"
   ]
  },
  {
   "cell_type": "code",
   "execution_count": 67,
   "id": "hawaiian-jimmy",
   "metadata": {},
   "outputs": [],
   "source": [
    "#np.shape(ct_cov)"
   ]
  },
  {
   "cell_type": "code",
   "execution_count": 68,
   "id": "verbal-ranch",
   "metadata": {},
   "outputs": [],
   "source": [
    "#ct_cov"
   ]
  },
  {
   "cell_type": "code",
   "execution_count": 123,
   "id": "bearing-microphone",
   "metadata": {},
   "outputs": [],
   "source": [
    "Pcct, Pcvecsct = np.linalg.eig(ct_cov)"
   ]
  },
  {
   "cell_type": "code",
   "execution_count": 124,
   "id": "unauthorized-neighborhood",
   "metadata": {},
   "outputs": [
    {
     "data": {
      "text/plain": [
       "(30, 30)"
      ]
     },
     "execution_count": 124,
     "metadata": {},
     "output_type": "execute_result"
    }
   ],
   "source": [
    "np.shape(vct)"
   ]
  },
  {
   "cell_type": "code",
   "execution_count": 125,
   "id": "ideal-facility",
   "metadata": {},
   "outputs": [],
   "source": [
    "#PCA_reconstructions"
   ]
  },
  {
   "cell_type": "code",
   "execution_count": 126,
   "id": "amended-entry",
   "metadata": {},
   "outputs": [
    {
     "data": {
      "text/plain": [
       "(10, 3)"
      ]
     },
     "execution_count": 126,
     "metadata": {},
     "output_type": "execute_result"
    }
   ],
   "source": [
    "np.shape(mean_posemeh_ar)"
   ]
  },
  {
   "cell_type": "code",
   "execution_count": 156,
   "id": "union-innocent",
   "metadata": {},
   "outputs": [],
   "source": [
    "def PCA_reconstruction(meanpose, PCvecs, Pcs, num_sig=10):\n",
    "    weighted_vecs = []\n",
    "    for i in range(num_sig):\n",
    "        a =(PCvecs[:,i]**2)*np.repeat(Pcs[i],30)\n",
    "        weighted_vecs.append(np.reshape(a,(10,3)))\n",
    "    weighted_vecs = np.array(weighted_vecs)\n",
    "    pose_recon = []\n",
    "    for i in range(num_sig):\n",
    "        pose_recon.append(weighted_vecs[i]+meanpose)\n",
    "    \n",
    "    return np.array(pose_recon), weighted_vecs    \n",
    "    #now we reshape\n",
    "    #weighted_vecs = np.array(np.reshape(weighted_vecs,(10,3)))\n",
    "    #now we add the mean\n",
    "    #pose_reconstruction = meanpose + weighted_vecs\n",
    "    #return pose_reconstruction\n",
    "    \n",
    "    "
   ]
  },
  {
   "cell_type": "code",
   "execution_count": 157,
   "id": "accredited-protest",
   "metadata": {},
   "outputs": [],
   "source": [
    "def PC_poses(PCvecs,num=10):\n",
    "    pcposes = []\n",
    "    for i in range(num):\n",
    "        pcposes.append(np.reshape(PCvecs[:,i],(10,3)))\n",
    "    return np.array(pcposes)"
   ]
  },
  {
   "cell_type": "code",
   "execution_count": 158,
   "id": "threatened-wilderness",
   "metadata": {},
   "outputs": [],
   "source": [
    "p_poses = PC_poses(Pcvecsct)"
   ]
  },
  {
   "cell_type": "code",
   "execution_count": 159,
   "id": "integral-robert",
   "metadata": {},
   "outputs": [
    {
     "data": {
      "text/plain": [
       "(10, 10, 3)"
      ]
     },
     "execution_count": 159,
     "metadata": {},
     "output_type": "execute_result"
    }
   ],
   "source": [
    "np.shape(p_poses)"
   ]
  },
  {
   "cell_type": "code",
   "execution_count": 160,
   "id": "valuable-immunology",
   "metadata": {},
   "outputs": [],
   "source": [
    "test_recon,test_recon_vecs = PCA_reconstruction(mean_posemeh_ar, Pcvecsct, Pcct)"
   ]
  },
  {
   "cell_type": "code",
   "execution_count": 161,
   "id": "persistent-determination",
   "metadata": {},
   "outputs": [],
   "source": [
    "#simple scaling\n",
    "test_simple,test_simple_vecs = PCA_reconstruction(mean_posemeh_ar, pcvecsct_norm, Pcct_norm*np.repeat(50,30))"
   ]
  },
  {
   "cell_type": "code",
   "execution_count": 162,
   "id": "studied-advisory",
   "metadata": {},
   "outputs": [
    {
     "data": {
      "text/plain": [
       "array([3894.04205741, 4067.49204187, 4143.60019944, 4170.14283414,\n",
       "       4193.09588695, 4207.57034513, 4215.45525002, 4219.64782046,\n",
       "       4222.90032275, 4226.02782   , 4228.0790122 , 4229.6492651 ,\n",
       "       4230.74704562, 4231.65626925, 4232.2827393 , 4232.6945789 ,\n",
       "       4233.01652148, 4233.27905118, 4233.46752688, 4233.59596517,\n",
       "       4233.70546739, 4233.79906069, 4233.8747486 , 4233.9342019 ,\n",
       "       4233.97663098, 4234.00074445, 4234.02695272, 4234.02695272,\n",
       "       4234.02695272, 4234.02695272])"
      ]
     },
     "execution_count": 162,
     "metadata": {},
     "output_type": "execute_result"
    }
   ],
   "source": [
    "np.cumsum(Pcct)"
   ]
  },
  {
   "cell_type": "code",
   "execution_count": 163,
   "id": "raising-bradley",
   "metadata": {},
   "outputs": [
    {
     "data": {
      "text/plain": [
       "array([[ -3.24127025,   2.17663863,  -0.4894343 ],\n",
       "       [  3.24127025,  -2.17663863,   0.4894343 ],\n",
       "       [  1.00919183,   2.48974686,   4.35652558],\n",
       "       [  6.95845138,  -1.23163472,   4.87153623],\n",
       "       [  8.53661026,  14.28593194,   9.25050711],\n",
       "       [ 14.70273786,  12.48598415,  10.43329621],\n",
       "       [ -7.19558068,  12.56519123,  -2.29074298],\n",
       "       [  9.23704285,   4.29123237,  -4.12861838],\n",
       "       [ -9.52905629,  12.21544134,  -8.76587112],\n",
       "       [  4.80246119,   4.39751954, -11.68662423]])"
      ]
     },
     "execution_count": 163,
     "metadata": {},
     "output_type": "execute_result"
    }
   ],
   "source": [
    "mean_posemeh_ar\n"
   ]
  },
  {
   "cell_type": "code",
   "execution_count": 164,
   "id": "parental-october",
   "metadata": {},
   "outputs": [
    {
     "data": {
      "text/plain": [
       "array([[[1.25179362e-01, 9.26501006e-03, 5.82744821e-02],\n",
       "        [1.25179362e-01, 9.26501006e-03, 5.82744821e-02],\n",
       "        [1.94221142e-01, 1.48645452e-01, 4.54163621e-01],\n",
       "        [4.96898195e-02, 3.29483529e-01, 4.15996687e-02],\n",
       "        [7.69737580e-02, 9.45766052e+00, 5.33835806e+00],\n",
       "        [1.53351298e-01, 1.18791997e+01, 3.90990183e+00],\n",
       "        [6.97857657e-01, 7.02029976e-01, 1.80756601e+00],\n",
       "        [1.96930027e+00, 2.83702731e+00, 1.60269085e-02],\n",
       "        [1.53352157e-01, 1.71344434e-01, 5.12174323e-01],\n",
       "        [2.82770604e+00, 1.53662245e+00, 3.35394501e-01]],\n",
       "\n",
       "       [[6.36274082e-05, 8.25544338e-03, 2.90664494e-03],\n",
       "        [6.36274082e-05, 8.25544338e-03, 2.90664494e-03],\n",
       "        [2.09400151e-02, 1.52232996e-02, 3.98235759e-05],\n",
       "        [1.65196472e-02, 1.27131700e-03, 1.09138402e-02],\n",
       "        [4.46168564e-01, 4.03270006e-02, 4.90908042e-02],\n",
       "        [5.09166779e-01, 1.08866135e-02, 9.88842328e-02],\n",
       "        [9.61145223e-02, 9.86948357e-02, 3.19411552e-03],\n",
       "        [6.92946739e-02, 6.38120588e-02, 9.14252932e-02],\n",
       "        [5.43985430e-02, 3.90876060e-02, 7.95266845e-03],\n",
       "        [3.13636157e-02, 1.63537760e-01, 8.75271963e-02]],\n",
       "\n",
       "       [[4.27040536e-04, 3.64869411e-04, 2.39369068e-06],\n",
       "        [4.27040536e-04, 3.64869411e-04, 2.39369068e-06],\n",
       "        [1.65534799e-03, 1.50766261e-02, 8.58846403e-03],\n",
       "        [5.82950544e-05, 1.48364380e-02, 3.33225794e-03],\n",
       "        [5.70805222e-02, 8.17571564e-02, 1.72555152e-01],\n",
       "        [4.98777635e-02, 1.06665128e-01, 1.51037907e-01],\n",
       "        [2.45759895e-02, 1.05442245e-02, 3.80295884e-02],\n",
       "        [1.51503244e-03, 4.22555487e-04, 3.70287207e-02],\n",
       "        [3.34789857e-02, 3.07110538e-03, 5.22436265e-02],\n",
       "        [6.04666328e-03, 1.00625085e-02, 1.76393198e-02]],\n",
       "\n",
       "       [[2.78318346e-04, 1.51489880e-05, 8.54607443e-06],\n",
       "        [2.78318346e-04, 1.51489880e-05, 8.54607443e-06],\n",
       "        [2.21384075e-04, 3.65460343e-04, 1.24798369e-05],\n",
       "        [9.42218428e-04, 1.06759498e-04, 4.34256437e-05],\n",
       "        [6.50273031e-03, 2.09459066e-04, 1.75730748e-05],\n",
       "        [1.19310783e-02, 2.14110748e-05, 3.69600990e-05],\n",
       "        [8.94463223e-04, 7.11491060e-04, 6.50796518e-04],\n",
       "        [6.86209882e-03, 2.31265388e-03, 1.57560741e-03],\n",
       "        [4.02317558e-02, 2.33690950e-01, 7.74533335e-04],\n",
       "        [1.74002096e-04, 1.25604543e-03, 3.29496466e-03]],\n",
       "\n",
       "       [[3.78510186e-04, 3.12744773e-05, 2.58599759e-03],\n",
       "        [3.78510186e-04, 3.12744773e-05, 2.58599759e-03],\n",
       "        [2.35959009e-03, 3.91806296e-03, 9.70788233e-04],\n",
       "        [4.82022973e-04, 2.26242004e-04, 5.93766727e-03],\n",
       "        [1.43974379e-03, 3.78653823e-03, 3.36007816e-04],\n",
       "        [4.19787822e-03, 1.02668490e-03, 6.26516572e-03],\n",
       "        [2.02118440e-03, 4.17826682e-05, 2.70751399e-02],\n",
       "        [1.38369408e-02, 4.85896467e-03, 3.22702876e-02],\n",
       "        [3.06400046e-04, 2.90553298e-03, 1.06622382e-01],\n",
       "        [1.67811679e-02, 4.51915911e-03, 2.28777383e-02]],\n",
       "\n",
       "       [[1.49326132e-03, 1.78360029e-04, 1.90793653e-04],\n",
       "        [1.49326132e-03, 1.78360029e-04, 1.90793653e-04],\n",
       "        [6.11149806e-05, 6.43935217e-04, 6.98606894e-04],\n",
       "        [3.50213202e-03, 2.78029069e-05, 4.81403048e-05],\n",
       "        [2.26126260e-03, 4.00537436e-05, 5.66409424e-03],\n",
       "        [5.51311216e-05, 8.59847972e-04, 2.15981658e-03],\n",
       "        [1.24280389e-02, 7.03747005e-04, 9.76889801e-05],\n",
       "        [7.29909496e-03, 4.51981775e-03, 1.58817473e-02],\n",
       "        [2.34612758e-02, 1.66321554e-02, 4.94788482e-02],\n",
       "        [3.67828022e-03, 4.21182703e-03, 1.27908708e-02]],\n",
       "\n",
       "       [[2.28682265e-05, 1.06006326e-06, 1.29319110e-04],\n",
       "        [2.28682265e-05, 1.06006326e-06, 1.29319110e-04],\n",
       "        [1.24040021e-04, 2.59824557e-04, 5.30786246e-05],\n",
       "        [6.41995062e-05, 5.77696136e-04, 6.56147139e-06],\n",
       "        [4.64810244e-03, 1.97197837e-04, 5.08302454e-04],\n",
       "        [4.00087818e-03, 3.32906341e-04, 4.39204184e-06],\n",
       "        [3.16818078e-04, 3.30349575e-05, 6.22171496e-04],\n",
       "        [1.46725075e-06, 1.65945682e-05, 9.77869960e-04],\n",
       "        [3.89791428e-02, 8.78051779e-03, 7.88015708e-03],\n",
       "        [1.24689772e-02, 1.13379107e-02, 6.15205269e-04]],\n",
       "\n",
       "       [[5.45688967e-05, 1.39449283e-04, 2.62252252e-05],\n",
       "        [5.45688967e-05, 1.39449283e-04, 2.62252252e-05],\n",
       "        [1.83999139e-05, 9.03839359e-05, 9.98269310e-05],\n",
       "        [9.87390069e-04, 9.83810719e-05, 1.53222532e-04],\n",
       "        [2.69439888e-03, 6.24317558e-03, 5.30008275e-04],\n",
       "        [9.93378873e-04, 1.21924180e-03, 8.73397202e-04],\n",
       "        [9.28734288e-06, 2.27207029e-03, 1.09301778e-03],\n",
       "        [2.48709983e-04, 8.69879573e-06, 7.31185400e-04],\n",
       "        [3.85657412e-03, 1.03420565e-05, 2.25389135e-03],\n",
       "        [9.56402046e-03, 4.74268635e-03, 1.02782606e-02]],\n",
       "\n",
       "       [[1.17494387e-04, 2.32181384e-04, 9.62087294e-05],\n",
       "        [1.17494387e-04, 2.32181384e-04, 9.62087294e-05],\n",
       "        [1.45463992e-03, 3.13415001e-07, 5.72718810e-04],\n",
       "        [2.53438385e-03, 9.96718282e-04, 5.81692692e-05],\n",
       "        [1.38537829e-04, 5.11926855e-05, 4.07310151e-04],\n",
       "        [9.33420262e-05, 2.58186814e-03, 2.86104862e-04],\n",
       "        [2.25836111e-04, 9.14333329e-03, 2.98238454e-03],\n",
       "        [1.62168402e-04, 2.24918989e-04, 7.06892955e-05],\n",
       "        [1.16172266e-05, 5.56002000e-04, 9.23115191e-04],\n",
       "        [3.25060744e-03, 1.06420975e-02, 1.49249773e-04]],\n",
       "\n",
       "       [[2.03412924e-04, 8.01346727e-05, 1.45679792e-04],\n",
       "        [2.03412924e-04, 8.01346727e-05, 1.45679792e-04],\n",
       "        [5.47644120e-05, 5.14870642e-04, 1.22267237e-05],\n",
       "        [6.68006923e-04, 8.28207261e-04, 7.76968874e-04],\n",
       "        [5.36390727e-04, 1.77200681e-05, 9.19760188e-04],\n",
       "        [4.46161291e-05, 1.87197222e-04, 2.39560372e-03],\n",
       "        [2.09032647e-04, 1.60578789e-03, 1.51523549e-02],\n",
       "        [1.81793471e-03, 3.16445982e-05, 7.07294788e-05],\n",
       "        [2.01337919e-03, 1.14078695e-04, 3.01575359e-03],\n",
       "        [2.81076631e-07, 1.63289943e-03, 3.45422870e-03]]])"
      ]
     },
     "execution_count": 164,
     "metadata": {},
     "output_type": "execute_result"
    }
   ],
   "source": [
    "test_simple_vecs"
   ]
  },
  {
   "cell_type": "code",
   "execution_count": 165,
   "id": "bizarre-gasoline",
   "metadata": {},
   "outputs": [
    {
     "data": {
      "text/plain": [
       "(10, 10, 3)"
      ]
     },
     "execution_count": 165,
     "metadata": {},
     "output_type": "execute_result"
    }
   ],
   "source": [
    "np.shape(test_simple)"
   ]
  },
  {
   "cell_type": "code",
   "execution_count": 166,
   "id": "satisfactory-sister",
   "metadata": {},
   "outputs": [
    {
     "data": {
      "text/plain": [
       "['H_l', 'H_r', 'C_l', 'C_r', 'B_l', 'B_r', 'K_l', 'K_r', 'A_l', 'A_r']"
      ]
     },
     "execution_count": 166,
     "metadata": {},
     "output_type": "execute_result"
    }
   ],
   "source": [
    "labels_sf"
   ]
  },
  {
   "cell_type": "code",
   "execution_count": 167,
   "id": "cellular-appraisal",
   "metadata": {},
   "outputs": [
    {
     "data": {
      "text/plain": [
       "array([ 9.19701764,  9.60667489,  9.78642849,  9.84911735,  9.90332828,\n",
       "        9.93751431,  9.95613702,  9.96603911,  9.97372093,  9.98110751,\n",
       "        9.98595205,  9.9896607 ,  9.99225346,  9.99440088,  9.99588049,\n",
       "        9.99685318,  9.99761355,  9.99823359,  9.99867874,  9.99898209,\n",
       "        9.99924071,  9.99946176,  9.99964052,  9.99978094,  9.99988115,\n",
       "        9.99994305, 10.        , 10.        , 10.        , 10.        ])"
      ]
     },
     "execution_count": 167,
     "metadata": {},
     "output_type": "execute_result"
    }
   ],
   "source": [
    "np.cumsum(Pcct_norm*np.repeat(10,30))"
   ]
  },
  {
   "cell_type": "code",
   "execution_count": 168,
   "id": "infinite-teens",
   "metadata": {},
   "outputs": [
    {
     "data": {
      "text/plain": [
       "[<mpl_toolkits.mplot3d.art3d.Line3D at 0x7f9154039b20>]"
      ]
     },
     "execution_count": 168,
     "metadata": {},
     "output_type": "execute_result"
    }
   ],
   "source": [
    "fig99 = plt.figure(102)\n",
    "ax = plt.axes(projection='3d')\n",
    "\n",
    "ax.scatter(mean_posemeh_ar[:,0],mean_posemeh_ar[:,1],mean_posemeh_ar[:,2],'C0')\n",
    "for pn in range(7):\n",
    "\n",
    "    #ax.text(test_recon[0,:,0], test_recon[0,:,1], test_recon[0,:,2], '%s' % (labels_sf[i]), size=10, zorder=1, color='k')\n",
    "    ax.scatter(test_recon[pn,:,0],test_recon[pn,:,1],test_recon[pn,:,2],('C'+str(pn+1)))\n",
    "    ax.plot3D(test_recon[pn,:2,0],test_recon[pn,:2,1],test_recon[pn,:2,2],('C'+str(pn+1)))\n",
    "    ax.plot3D(test_recon[pn,2:4,0],test_recon[pn,2:4,1],test_recon[pn,2:4,2],('C'+str(pn+1)))\n",
    "    ax.plot3D(test_recon[pn,4:6,0],test_recon[pn,4:6,1],test_recon[pn,4:6,2],('C'+str(pn+1)))\n",
    "    ax.plot3D(test_recon[pn,6::2,0],test_recon[pn,6::2,1],test_recon[pn,6::2,2],('C'+str(pn+1)))\n",
    "    ax.plot3D(test_recon[pn,7::2,0],test_recon[pn,7::2,1],test_recon[pn,7::2,2],('C'+str(pn+1)))\n",
    "    ax.plot3D(test_recon[pn,0::6,0],test_recon[pn,0::6,1],test_recon[pn,0::6,2],('C'+str(pn+1)))\n",
    "    ax.plot3D(test_recon[pn,1::6,0],test_recon[pn,1::6,1],test_recon[pn,1::6,2],('C'+str(pn+1)))\n",
    "ax.set_xlim3d([-15,15])\n",
    "ax.set_ylim3d([-8,28])\n",
    "ax.set_zlim3d([-15,15])\n",
    "#ax.scatter(test_recon[1,:,0],test_recon[1,:,1],test_recon[1,:,2],'g')\n",
    "#ax.scatter(test_recon[2,:,0],test_recon[2,:,1],test_recon[2,:,2],'g')\n",
    "#ax.scatter(test_recon[3,:,0],test_recon[3,:,1],test_recon[3,:,2],'g')\n",
    "#ax.scatter(test_recon[4,:,0],test_recon[4,:,1],test_recon[4,:,2],'g')\n",
    "#ax.scatter(test_recon[5,:,0],test_recon[5,:,1],test_recon[5,:,2],'g')\n",
    "ax.plot3D(mean_posemeh_ar[:2,0],mean_posemeh_ar[:2,1],mean_posemeh_ar[:2,2],'C0')\n",
    "ax.plot3D(mean_posemeh_ar[2:4,0],mean_posemeh_ar[2:4,1],mean_posemeh_ar[2:4,2],'C0')\n",
    "ax.plot3D(mean_posemeh_ar[4:6,0],mean_posemeh_ar[4:6,1],mean_posemeh_ar[4:6,2],'C0')\n",
    "ax.plot3D(mean_posemeh_ar[6::2,0],mean_posemeh_ar[6::2,1],mean_posemeh_ar[6::2,2],'C0')\n",
    "ax.plot3D(mean_posemeh_ar[7::2,0],mean_posemeh_ar[7::2,1],mean_posemeh_ar[7::2,2],'C0')\n",
    "ax.plot3D(mean_posemeh_ar[0::6,0],mean_posemeh_ar[0::6,1],mean_posemeh_ar[0::6,2],'C0')\n",
    "ax.plot3D(mean_posemeh_ar[1::6,0],mean_posemeh_ar[1::6,1],mean_posemeh_ar[1::6,2],'C0')"
   ]
  },
  {
   "cell_type": "code",
   "execution_count": null,
   "id": "fatty-female",
   "metadata": {},
   "outputs": [],
   "source": []
  },
  {
   "cell_type": "code",
   "execution_count": 155,
   "id": "desirable-hospital",
   "metadata": {},
   "outputs": [
    {
     "name": "stderr",
     "output_type": "stream",
     "text": [
      "Traceback (most recent call last):\n",
      "  File \"/Users/lakshmipriyaswaminathan/miniconda3/lib/python3.8/site-packages/matplotlib/cbook/__init__.py\", line 224, in process\n",
      "    func(*args, **kwargs)\n",
      "  File \"/Users/lakshmipriyaswaminathan/miniconda3/lib/python3.8/site-packages/mpl_toolkits/mplot3d/axes3d.py\", line 1137, in _button_release\n",
      "    toolbar = getattr(self.figure.canvas, \"toolbar\")\n",
      "AttributeError: 'NoneType' object has no attribute 'canvas'\n",
      "Traceback (most recent call last):\n",
      "  File \"/Users/lakshmipriyaswaminathan/miniconda3/lib/python3.8/site-packages/matplotlib/cbook/__init__.py\", line 224, in process\n",
      "    func(*args, **kwargs)\n",
      "  File \"/Users/lakshmipriyaswaminathan/miniconda3/lib/python3.8/site-packages/mpl_toolkits/mplot3d/axes3d.py\", line 1137, in _button_release\n",
      "    toolbar = getattr(self.figure.canvas, \"toolbar\")\n",
      "AttributeError: 'NoneType' object has no attribute 'canvas'\n",
      "Traceback (most recent call last):\n",
      "  File \"/Users/lakshmipriyaswaminathan/miniconda3/lib/python3.8/site-packages/matplotlib/cbook/__init__.py\", line 224, in process\n",
      "    func(*args, **kwargs)\n",
      "  File \"/Users/lakshmipriyaswaminathan/miniconda3/lib/python3.8/site-packages/mpl_toolkits/mplot3d/axes3d.py\", line 1137, in _button_release\n",
      "    toolbar = getattr(self.figure.canvas, \"toolbar\")\n",
      "AttributeError: 'NoneType' object has no attribute 'canvas'\n",
      "Traceback (most recent call last):\n",
      "  File \"/Users/lakshmipriyaswaminathan/miniconda3/lib/python3.8/site-packages/matplotlib/cbook/__init__.py\", line 224, in process\n",
      "    func(*args, **kwargs)\n",
      "  File \"/Users/lakshmipriyaswaminathan/miniconda3/lib/python3.8/site-packages/mpl_toolkits/mplot3d/axes3d.py\", line 1137, in _button_release\n",
      "    toolbar = getattr(self.figure.canvas, \"toolbar\")\n",
      "AttributeError: 'NoneType' object has no attribute 'canvas'\n",
      "Traceback (most recent call last):\n",
      "  File \"/Users/lakshmipriyaswaminathan/miniconda3/lib/python3.8/site-packages/matplotlib/cbook/__init__.py\", line 224, in process\n",
      "    func(*args, **kwargs)\n",
      "  File \"/Users/lakshmipriyaswaminathan/miniconda3/lib/python3.8/site-packages/mpl_toolkits/mplot3d/axes3d.py\", line 1137, in _button_release\n",
      "    toolbar = getattr(self.figure.canvas, \"toolbar\")\n",
      "AttributeError: 'NoneType' object has no attribute 'canvas'\n",
      "Traceback (most recent call last):\n",
      "  File \"/Users/lakshmipriyaswaminathan/miniconda3/lib/python3.8/site-packages/matplotlib/cbook/__init__.py\", line 224, in process\n",
      "    func(*args, **kwargs)\n",
      "  File \"/Users/lakshmipriyaswaminathan/miniconda3/lib/python3.8/site-packages/mpl_toolkits/mplot3d/axes3d.py\", line 1137, in _button_release\n",
      "    toolbar = getattr(self.figure.canvas, \"toolbar\")\n",
      "AttributeError: 'NoneType' object has no attribute 'canvas'\n",
      "Traceback (most recent call last):\n",
      "  File \"/Users/lakshmipriyaswaminathan/miniconda3/lib/python3.8/site-packages/matplotlib/cbook/__init__.py\", line 224, in process\n",
      "    func(*args, **kwargs)\n",
      "  File \"/Users/lakshmipriyaswaminathan/miniconda3/lib/python3.8/site-packages/mpl_toolkits/mplot3d/axes3d.py\", line 1137, in _button_release\n",
      "    toolbar = getattr(self.figure.canvas, \"toolbar\")\n",
      "AttributeError: 'NoneType' object has no attribute 'canvas'\n",
      "Traceback (most recent call last):\n",
      "  File \"/Users/lakshmipriyaswaminathan/miniconda3/lib/python3.8/site-packages/matplotlib/cbook/__init__.py\", line 224, in process\n",
      "    func(*args, **kwargs)\n",
      "  File \"/Users/lakshmipriyaswaminathan/miniconda3/lib/python3.8/site-packages/mpl_toolkits/mplot3d/axes3d.py\", line 1137, in _button_release\n",
      "    toolbar = getattr(self.figure.canvas, \"toolbar\")\n",
      "AttributeError: 'NoneType' object has no attribute 'canvas'\n",
      "Traceback (most recent call last):\n",
      "  File \"/Users/lakshmipriyaswaminathan/miniconda3/lib/python3.8/site-packages/matplotlib/cbook/__init__.py\", line 224, in process\n",
      "    func(*args, **kwargs)\n",
      "  File \"/Users/lakshmipriyaswaminathan/miniconda3/lib/python3.8/site-packages/mpl_toolkits/mplot3d/axes3d.py\", line 1137, in _button_release\n",
      "    toolbar = getattr(self.figure.canvas, \"toolbar\")\n",
      "AttributeError: 'NoneType' object has no attribute 'canvas'\n"
     ]
    }
   ],
   "source": [
    "fig103 = plt.figure(103)\n",
    "\n",
    "for i in range(10):\n",
    "    plt.subplot(2,5,i+1)\n",
    "    ax = plt.axes(projection='3d')\n",
    "    ax.scatter(p_poses[i,:,0],p_poses[i,:,1],p_poses[i,:,2],('C'+str(i+1)))\n",
    "    ax.plot3D(p_poses[i,:2,0],p_poses[i,:2,1],p_poses[i,:2,2],('C'+str(i+1)))\n",
    "    ax.plot3D(p_poses[i,2:4,0],p_poses[i,2:4,1],p_poses[i,2:4,2],('C'+str(i+1)))\n",
    "    ax.plot3D(p_poses[i,4:6,0],p_poses[i,4:6,1],p_poses[i,4:6,2],('C'+str(i+1)))\n",
    "    ax.plot3D(p_poses[i,6::2,0],p_poses[i,6::2,1],p_poses[i,6::2,2],('C'+str(i+1)))\n",
    "    ax.plot3D(p_poses[i,7::2,0],p_poses[i,7::2,1],p_poses[i,7::2,2],('C'+str(i+1)))\n",
    "    ax.plot3D(p_poses[i,0::6,0],p_poses[i,0::6,1],p_poses[i,0::6,2],('C'+str(i+1)))\n",
    "    ax.plot3D(p_poses[i,1::6,0],p_poses[i,1::6,1],p_poses[i,1::6,2],('C'+str(i+1)))\n",
    "    #ax.set_xlim3d([-15,15])\n",
    "    #ax.set_ylim3d([-8,28])\n",
    "    #ax.set_zlim3d([-15,15])\n",
    "plt.show()"
   ]
  },
  {
   "cell_type": "code",
   "execution_count": null,
   "id": "multiple-heather",
   "metadata": {},
   "outputs": [],
   "source": []
  },
  {
   "cell_type": "code",
   "execution_count": null,
   "id": "delayed-yellow",
   "metadata": {},
   "outputs": [],
   "source": []
  },
  {
   "cell_type": "code",
   "execution_count": null,
   "id": "wanted-edition",
   "metadata": {},
   "outputs": [],
   "source": []
  },
  {
   "cell_type": "code",
   "execution_count": null,
   "id": "industrial-vacation",
   "metadata": {},
   "outputs": [],
   "source": []
  },
  {
   "cell_type": "code",
   "execution_count": 121,
   "id": "fossil-appearance",
   "metadata": {},
   "outputs": [
    {
     "data": {
      "text/plain": [
       "[<mpl_toolkits.mplot3d.art3d.Line3D at 0x7f915f4398e0>]"
      ]
     },
     "execution_count": 121,
     "metadata": {},
     "output_type": "execute_result"
    }
   ],
   "source": [
    "fig99 = plt.figure(102)\n",
    "ax = plt.axes(projection='3d')\n",
    "pn=2\n",
    "ax.scatter(mean_posemeh_ar[:,0],mean_posemeh_ar[:,1],mean_posemeh_ar[:,2],'C0')\n",
    "#for pn in range(10):\n",
    "\n",
    "    #ax.text(test_recon[0,:,0], test_recon[0,:,1], test_recon[0,:,2], '%s' % (labels_sf[i]), size=10, zorder=1, color='k')\n",
    "ax.scatter(test_recon[pn,:,0],test_recon[pn,:,1],test_recon[pn,:,2],'C1')\n",
    "ax.plot3D(test_recon[pn,:2,0],test_recon[pn,:2,1],test_recon[pn,:2,2],'C1')\n",
    "ax.plot3D(test_recon[pn,2:4,0],test_recon[pn,2:4,1],test_recon[pn,2:4,2],'C1')\n",
    "ax.plot3D(test_recon[pn,4:6,0],test_recon[pn,4:6,1],test_recon[pn,4:6,2],'C1')\n",
    "ax.plot3D(test_recon[pn,6::2,0],test_recon[pn,6::2,1],test_recon[pn,6::2,2],'C1')\n",
    "ax.plot3D(test_recon[pn,7::2,0],test_recon[pn,7::2,1],test_recon[pn,7::2,2],'C1')\n",
    "ax.plot3D(test_recon[pn,0::6,0],test_recon[pn,0::6,1],test_recon[pn,0::6,2],'C1')\n",
    "ax.plot3D(test_recon[pn,1::6,0],test_recon[pn,1::6,1],test_recon[pn,1::6,2],'C1')\n",
    "ax.set_xlim3d([-15,15])\n",
    "ax.set_ylim3d([-8,28])\n",
    "ax.set_zlim3d([-15,15])\n",
    "#ax.scatter(test_recon[1,:,0],test_recon[1,:,1],test_recon[1,:,2],'g')\n",
    "#ax.scatter(test_recon[2,:,0],test_recon[2,:,1],test_recon[2,:,2],'g')\n",
    "#ax.scatter(test_recon[3,:,0],test_recon[3,:,1],test_recon[3,:,2],'g')\n",
    "#ax.scatter(test_recon[4,:,0],test_recon[4,:,1],test_recon[4,:,2],'g')\n",
    "#ax.scatter(test_recon[5,:,0],test_recon[5,:,1],test_recon[5,:,2],'g')\n",
    "ax.plot3D(mean_posemeh_ar[:2,0],mean_posemeh_ar[:2,1],mean_posemeh_ar[:2,2],'C0')\n",
    "ax.plot3D(mean_posemeh_ar[2:4,0],mean_posemeh_ar[2:4,1],mean_posemeh_ar[2:4,2],'C0')\n",
    "ax.plot3D(mean_posemeh_ar[4:6,0],mean_posemeh_ar[4:6,1],mean_posemeh_ar[4:6,2],'C0')\n",
    "ax.plot3D(mean_posemeh_ar[6::2,0],mean_posemeh_ar[6::2,1],mean_posemeh_ar[6::2,2],'C0')\n",
    "ax.plot3D(mean_posemeh_ar[7::2,0],mean_posemeh_ar[7::2,1],mean_posemeh_ar[7::2,2],'C0')\n",
    "ax.plot3D(mean_posemeh_ar[0::6,0],mean_posemeh_ar[0::6,1],mean_posemeh_ar[0::6,2],'C0')\n",
    "ax.plot3D(mean_posemeh_ar[1::6,0],mean_posemeh_ar[1::6,1],mean_posemeh_ar[1::6,2],'C0')"
   ]
  },
  {
   "cell_type": "markdown",
   "id": "designed-gossip",
   "metadata": {},
   "source": [
    "#### labels_sf[1::6]"
   ]
  },
  {
   "cell_type": "code",
   "execution_count": 148,
   "id": "reasonable-jaguar",
   "metadata": {},
   "outputs": [
    {
     "name": "stderr",
     "output_type": "stream",
     "text": [
      "Traceback (most recent call last):\n",
      "  File \"/Users/lakshmipriyaswaminathan/miniconda3/lib/python3.8/site-packages/matplotlib/cbook/__init__.py\", line 224, in process\n",
      "    func(*args, **kwargs)\n",
      "  File \"/Users/lakshmipriyaswaminathan/miniconda3/lib/python3.8/site-packages/mpl_toolkits/mplot3d/axes3d.py\", line 1137, in _button_release\n",
      "    toolbar = getattr(self.figure.canvas, \"toolbar\")\n",
      "AttributeError: 'NoneType' object has no attribute 'canvas'\n",
      "Traceback (most recent call last):\n",
      "  File \"/Users/lakshmipriyaswaminathan/miniconda3/lib/python3.8/site-packages/matplotlib/cbook/__init__.py\", line 224, in process\n",
      "    func(*args, **kwargs)\n",
      "  File \"/Users/lakshmipriyaswaminathan/miniconda3/lib/python3.8/site-packages/mpl_toolkits/mplot3d/axes3d.py\", line 1137, in _button_release\n",
      "    toolbar = getattr(self.figure.canvas, \"toolbar\")\n",
      "AttributeError: 'NoneType' object has no attribute 'canvas'\n"
     ]
    }
   ],
   "source": [
    "fig100 = plt.figure(100)\n",
    "ax = plt.axes(projection='3d')\n",
    "#pm=2\n",
    "ax.scatter(mean_posemeh_ar[:,0],mean_posemeh_ar[:,1],mean_posemeh_ar[:,2],'C0')\n",
    "for i in range(10):\n",
    "    \n",
    "    #ax.text(test_recon[0,:,0], test_recon[0,:,1], test_recon[0,:,2], '%s' % (labels_sf[i]), size=10, zorder=1, color='k')\n",
    "    ax.scatter(test_simple[i,:,0],test_simple[i,:,1],test_simple[i,:,2],'C1')\n",
    "    ax.plot3D(test_simple[i,:2,0],test_simple[i,:2,1],test_simple[i,:2,2],'C1')\n",
    "    ax.plot3D(test_simple[i,2:4,0],test_simple[i,2:4,1],test_simple[i,2:4,2],'C1')\n",
    "    ax.plot3D(test_simple[i,4:6,0],test_simple[i,4:6,1],test_simple[i,4:6,2],'C1')\n",
    "\n",
    "    ax.plot3D(test_simple[i,6::2,0],test_simple[i,6::2,1],test_simple[i,6::2,2],'C1')\n",
    "    ax.plot3D(test_simple[i,7::2,0],test_simple[i,7::2,1],test_simple[i,7::2,2],'C1')\n",
    "    ax.plot3D(test_simple[i,0::6,0],test_simple[i,0::6,1],test_simple[i,0::6,2],'C1')\n",
    "    ax.plot3D(test_simple[i,1::6,0],test_simple[i,1::6,1],test_simple[i,1::6,2],'C1')\n",
    "ax.set_xlim3d([-15,15])\n",
    "ax.set_ylim3d([-8,28])\n",
    "ax.set_zlim3d([-15,15])\n",
    "#ax.scatter(test_simple[1,:,0],test_simple[1,:,1],test_simple[1,:,2],'g')\n",
    "#ax.scatter(test_simple[2,:,0],test_simple[2,:,1],test_simple[2,:,2],'g')\n",
    "#ax.scatter(test_simple[3,:,0],test_simple[3,:,1],test_simple[3,:,2],'g')\n",
    "#ax.scatter(test_simple[4,:,0],test_simple[4,:,1],test_simple[4,:,2],'g')\n",
    "#ax.scatter(test_simple[5,:,0],test_simple[5,:,1],test_simple[5,:,2],'g')\n",
    "ax.plot3D(mean_posemeh_ar[:2,0],mean_posemeh_ar[:2,1],mean_posemeh_ar[:2,2],'C0')\n",
    "ax.plot3D(mean_posemeh_ar[2:4,0],mean_posemeh_ar[2:4,1],mean_posemeh_ar[2:4,2],'C0')\n",
    "ax.plot3D(mean_posemeh_ar[4:6,0],mean_posemeh_ar[4:6,1],mean_posemeh_ar[4:6,2],'C0')\n",
    "ax.plot3D(mean_posemeh_ar[6::2,0],mean_posemeh_ar[6::2,1],mean_posemeh_ar[6::2,2],'C0')\n",
    "ax.plot3D(mean_posemeh_ar[7::2,0],mean_posemeh_ar[7::2,1],mean_posemeh_ar[7::2,2],'C0')\n",
    "ax.plot3D(mean_posemeh_ar[0::6,0],mean_posemeh_ar[0::6,1],mean_posemeh_ar[0::6,2],'C0')\n",
    "ax.plot3D(mean_posemeh_ar[1::6,0],mean_posemeh_ar[1::6,1],mean_posemeh_ar[1::6,2],'C0')\n",
    "\n",
    "\n",
    "plt.show()"
   ]
  },
  {
   "cell_type": "code",
   "execution_count": null,
   "id": "discrete-strain",
   "metadata": {},
   "outputs": [],
   "source": []
  },
  {
   "cell_type": "code",
   "execution_count": null,
   "id": "light-nitrogen",
   "metadata": {},
   "outputs": [],
   "source": []
  },
  {
   "cell_type": "code",
   "execution_count": null,
   "id": "pressed-huntington",
   "metadata": {},
   "outputs": [],
   "source": []
  },
  {
   "cell_type": "code",
   "execution_count": null,
   "id": "refined-chambers",
   "metadata": {},
   "outputs": [],
   "source": []
  },
  {
   "cell_type": "code",
   "execution_count": null,
   "id": "dynamic-winning",
   "metadata": {},
   "outputs": [],
   "source": []
  },
  {
   "cell_type": "code",
   "execution_count": null,
   "id": "personalized-negotiation",
   "metadata": {},
   "outputs": [],
   "source": []
  },
  {
   "cell_type": "code",
   "execution_count": null,
   "id": "enabling-franchise",
   "metadata": {},
   "outputs": [],
   "source": []
  },
  {
   "cell_type": "code",
   "execution_count": null,
   "id": "norman-profile",
   "metadata": {},
   "outputs": [],
   "source": []
  },
  {
   "cell_type": "code",
   "execution_count": 81,
   "id": "vocal-tattoo",
   "metadata": {},
   "outputs": [],
   "source": [
    "Pcct_norm = Pcct/sum(Pcct)\n",
    "pcvecsct_norm =np.zeros((30,30))\n",
    "for i in range(30):\n",
    "    pcvecsct_norm[:,i] = Pcvecsct[:,i]/np.linalg.norm(Pcvecsct[:,i])"
   ]
  },
  {
   "cell_type": "code",
   "execution_count": 69,
   "id": "suspended-orchestra",
   "metadata": {},
   "outputs": [
    {
     "data": {
      "text/plain": [
       "array([0.50753057, 0.70130087, 0.81664282, 0.90197566, 0.93383161,\n",
       "       0.95597398, 0.96641533, 0.97430326, 0.98031471, 0.98478874,\n",
       "       0.98901078, 0.99160973, 0.99396801, 0.99578254, 0.99659514,\n",
       "       0.99732123, 0.99793516, 0.9984007 , 0.99876972, 0.9990992 ,\n",
       "       0.99934031, 0.99954131, 0.99969862, 0.99981971, 0.9999033 ,\n",
       "       0.99996353, 1.        , 1.        , 1.        , 1.        ])"
      ]
     },
     "execution_count": 69,
     "metadata": {},
     "output_type": "execute_result"
    }
   ],
   "source": [
    "np.cumsum(Pcct_norm)"
   ]
  },
  {
   "cell_type": "code",
   "execution_count": 70,
   "id": "expired-spotlight",
   "metadata": {},
   "outputs": [],
   "source": [
    "fig5 = plt.figure(5)\n",
    "\n",
    "plt.plot(np.arange(1,31), np.repeat(1,30), 'r--', label = 'Variance explained=100%')\n",
    "plt.bar(np.arange(1,31), Pcct_norm, label='Variance explained')\n",
    "plt.plot(np.arange(1,31),np.cumsum(Pcct_norm),color='green', label='Cumulative sum of Variance explained')\n",
    "#plt.yscale('log')\n",
    "plt.legend()\n",
    "plt.show()"
   ]
  },
  {
   "cell_type": "code",
   "execution_count": 71,
   "id": "played-causing",
   "metadata": {},
   "outputs": [],
   "source": [
    "labels = np.array(['Hip_l','hly','hlz','Hip_r','hry','hrz','Coordinate_l','cly','clz','Coordinate_r','cry','crz','Back_l','bly','blz','Back_r','bry','brz','Knee_l','kly','klz','Knee_r','kry','krz','Ankle_l','aly','alz','Ankle_r','ary','arz'])"
   ]
  },
  {
   "cell_type": "code",
   "execution_count": 72,
   "id": "emerging-taylor",
   "metadata": {},
   "outputs": [],
   "source": [
    "#%matplotlib "
   ]
  },
  {
   "cell_type": "code",
   "execution_count": 73,
   "id": "eleven-enclosure",
   "metadata": {},
   "outputs": [
    {
     "name": "stdout",
     "output_type": "stream",
     "text": [
      "2\n",
      "4\n",
      "8\n",
      "16\n",
      "32\n",
      "64\n",
      "128\n",
      "256\n",
      "512\n",
      "1024\n",
      "2048\n",
      "4096\n",
      "8192\n",
      "16384\n"
     ]
    }
   ],
   "source": [
    "Pcs_frames = []\n",
    "Pcvecs_frames = []\n",
    "\n",
    "for i in range(14):\n",
    "    ct_markertrajectories= np.reshape(ct_marker_traj[:,:,:2**(i+1)],(30,2**(i+1)))\n",
    "    #print((np.shape(ct_markertrajectories))/300)\n",
    "    print((2**(i+1)))\n",
    "    for j in range(30):\n",
    "         ct_markertrajectories[j,:] = ct_markertrajectories[j,:] - np.nanmean(ct_markertrajectories[j,:])\n",
    "    ct_cov = np.cov(ct_markertrajectories)\n",
    "    Pcvecsct, Pcct, vct = np.linalg.svd(ct_cov)\n",
    "    Pcct_norm = Pcct/sum(Pcct)\n",
    "    pcvecsct_norm = np.zeros((30,30))\n",
    "    for k in range(30):\n",
    "        pcvecsct_norm[:,k] = Pcvecsct[:,k]/np.linalg.norm(Pcvecsct[:,k])\n",
    "    Pcs_frames.append(Pcct_norm)\n",
    "    Pcvecs_frames.append(pcvecsct_norm)\n",
    "    #print(i)\n",
    "    \n",
    "    \n",
    "    \n",
    "    "
   ]
  },
  {
   "cell_type": "code",
   "execution_count": null,
   "id": "adjusted-spell",
   "metadata": {},
   "outputs": [],
   "source": []
  },
  {
   "cell_type": "code",
   "execution_count": 74,
   "id": "unnecessary-fourth",
   "metadata": {},
   "outputs": [
    {
     "name": "stderr",
     "output_type": "stream",
     "text": [
      "<ipython-input-74-ce93ae79311e>:10: MatplotlibDeprecationWarning: Adding an axes using the same arguments as a previous axes currently reuses the earlier instance.  In a future version, a new instance will always be created and returned.  Meanwhile, this warning can be suppressed, and the future behavior ensured, by passing a unique label to each axes instance.\n",
      "  plt.subplot(3,3,i+1)\n"
     ]
    }
   ],
   "source": [
    "figanim = plt.figure(7)\n",
    "for m in range(14):\n",
    "    figanim.clear()\n",
    "\n",
    "    #plt.figure(4+m)\n",
    "\n",
    "#fig4.subplots_adjust(hspace=0.5)\n",
    "\n",
    "    for i in range(9):\n",
    "        plt.subplot(3,3,i+1)\n",
    "        plt.barh(range(30)[::-1],Pcvecs_frames[m][::-1,i])\n",
    "        plt.xlim([-1,1])\n",
    "        plt.title(str(2**(m+1)))\n",
    "        \n",
    "        \n",
    "        \n",
    "        \n",
    "    \n",
    "\n",
    "\n",
    "\n",
    "\n",
    "\n",
    "    plt.pause(1)\n",
    "\n",
    "\n",
    "\n",
    "\n"
   ]
  },
  {
   "cell_type": "code",
   "execution_count": 75,
   "id": "regional-michael",
   "metadata": {},
   "outputs": [],
   "source": [
    "figanim_2 = plt.figure(8)\n",
    "for m in range(14):\n",
    "\n",
    "    #plt.figure(4+m)\n",
    "\n",
    "#fig4.subplots_adjust(hspace=0.5)\n",
    "    \n",
    "    figanim_2.clear()\n",
    "    plt.plot(np.arange(1,31), np.repeat(1,30), 'r--', label = 'Variance explained=100%')\n",
    "    plt.bar(np.arange(1,31), Pcs_frames[m], label='Variance explained')\n",
    "    plt.plot(np.arange(1,31),np.cumsum(Pcs_frames[m]),color='green', label='Cumulative sum of Variance explained')\n",
    "    plt.yscale('log')\n",
    "    plt.legend()\n",
    "    plt.title(str((m+1)**2))\n",
    "#plt.show()\n",
    "    \n",
    "\n",
    "\n",
    "\n",
    "\n",
    "\n",
    "    plt.pause(1)"
   ]
  },
  {
   "cell_type": "code",
   "execution_count": 76,
   "id": "federal-fountain",
   "metadata": {},
   "outputs": [],
   "source": [
    "fig10 = plt.figure(10)\n",
    "\n",
    "plt.plot(np.arange(1,31), np.repeat(1,30), 'r--', label = 'Variance explained=100%')\n",
    "plt.bar(np.arange(1,31), Pcs_frames[7], label='Variance explained')\n",
    "plt.plot(np.arange(1,31),np.cumsum(Pcs_frames[m]),color='green', label='Cumulative sum of Variance explained')\n",
    "#plt.yscale('log')\n",
    "plt.legend()\n",
    "\n",
    "plt.show()"
   ]
  },
  {
   "cell_type": "code",
   "execution_count": 80,
   "id": "conscious-prototype",
   "metadata": {},
   "outputs": [
    {
     "data": {
      "text/plain": [
       "(10,)"
      ]
     },
     "execution_count": 80,
     "metadata": {},
     "output_type": "execute_result"
    }
   ],
   "source": [
    "np.shape(labels_sf)"
   ]
  },
  {
   "cell_type": "code",
   "execution_count": 81,
   "id": "wooden-atmosphere",
   "metadata": {},
   "outputs": [
    {
     "data": {
      "text/plain": [
       "(30,)"
      ]
     },
     "execution_count": 81,
     "metadata": {},
     "output_type": "execute_result"
    }
   ],
   "source": [
    "np.shape(labels)"
   ]
  },
  {
   "cell_type": "code",
   "execution_count": 82,
   "id": "apparent-metro",
   "metadata": {},
   "outputs": [],
   "source": [
    "fig11 = plt.figure(11)\n",
    "for i in range(9):\n",
    "        ax = plt.subplot(3,3,i+1)\n",
    "        plt.barh(labels[::-1],Pcvecs_frames[0][::-1,i])\n",
    "        plt.xlim([-1,1])\n",
    "        for j, t in enumerate(ax.get_yticklabels()):\n",
    "            if (j % 3) != 2:\n",
    "                #print(j)\n",
    "                t.set_visible(False)\n",
    "\n",
    "        \n",
    "        \n",
    "plt.show()\n"
   ]
  },
  {
   "cell_type": "code",
   "execution_count": 83,
   "id": "universal-difference",
   "metadata": {},
   "outputs": [],
   "source": [
    "#let's plot everything"
   ]
  },
  {
   "cell_type": "code",
   "execution_count": 84,
   "id": "opposed-wales",
   "metadata": {},
   "outputs": [],
   "source": [
    "fig12 = plt.figure(12)\n",
    "#plot the PC spectrum\n",
    "\n",
    "plt.plot(np.arange(1,31), np.repeat(1,30), 'r--', label = 'Variance explained=100%')\n",
    "plt.bar(np.arange(1,31), Pcs_frames[0], label='Variance explained')\n",
    "plt.plot(np.arange(1,31),np.cumsum(Pcs_frames[0]),color='green', label='Cumulative sum of Variance explained')\n",
    "#plt.yscale('log')\n",
    "plt.legend()\n",
    "\n",
    "plt.show()\n"
   ]
  },
  {
   "cell_type": "code",
   "execution_count": 85,
   "id": "elect-objective",
   "metadata": {},
   "outputs": [],
   "source": [
    "fig13 = plt.figure(13)\n",
    "\n",
    "for i in range(9):\n",
    "        ax = plt.subplot(3,3,i+1)\n",
    "        plt.barh(labels[::-1],Pcvecs_frames[0][::-1,i])\n",
    "        plt.xlim([-1,1])\n",
    "        for j, t in enumerate(ax.get_yticklabels()):\n",
    "            if (j % 3) != 2:\n",
    "                #print(j)\n",
    "                t.set_visible(False)\n",
    "        \n",
    "plt.suptitle('2 frames = 0.007s')       \n",
    "plt.show()\n"
   ]
  },
  {
   "cell_type": "code",
   "execution_count": 86,
   "id": "potential-filing",
   "metadata": {},
   "outputs": [
    {
     "name": "stdout",
     "output_type": "stream",
     "text": [
      "0.006666666666666667\n",
      "0.013333333333333334\n",
      "0.02666666666666667\n",
      "0.05333333333333334\n",
      "0.10666666666666667\n",
      "0.21333333333333335\n",
      "0.4266666666666667\n",
      "0.8533333333333334\n",
      "1.7066666666666668\n",
      "3.4133333333333336\n",
      "6.826666666666667\n",
      "13.653333333333334\n",
      "27.30666666666667\n",
      "54.61333333333334\n"
     ]
    }
   ],
   "source": [
    "for i in range(14):\n",
    "    print((2**(i+1))/300)"
   ]
  },
  {
   "cell_type": "code",
   "execution_count": 87,
   "id": "practical-rocket",
   "metadata": {},
   "outputs": [],
   "source": [
    "from matplotlib.widgets import Slider, Button, RadioButtons"
   ]
  },
  {
   "cell_type": "code",
   "execution_count": 88,
   "id": "recreational-understanding",
   "metadata": {},
   "outputs": [],
   "source": [
    "#%matplotlib "
   ]
  },
  {
   "cell_type": "code",
   "execution_count": 89,
   "id": "oriented-verification",
   "metadata": {},
   "outputs": [],
   "source": [
    "fig14 = plt.figure(14)\n",
    "plt.subplots_adjust(left=0.25, bottom=0.25)\n",
    "for i in range(9):\n",
    "        ax = plt.subplot(3,3,i+1)\n",
    "        plt.xlim([-1,1])\n",
    "        plt.ylim([1,30])\n",
    "        #ax.set_yticklabels(labels)\n",
    "def buildmebarchart1(l = int):\n",
    "    #fig14.clear()\n",
    "    plt.suptitle(str(2**(l+1))+ ' frames = ' + str((2**(l+1))/300))\n",
    "    for i in range(9):\n",
    "        ax = plt.subplot(3,3,i+1)\n",
    "        ax.clear()\n",
    "        plt.barh(labels[::-1],Pcvecs_frames[l][::-1,i])\n",
    "        plt.xlim([-1,1])\n",
    "        for j, t in enumerate(ax.get_yticklabels()):\n",
    "            if (j % 3) != 2:\n",
    "                #print(j)\n",
    "                t.set_visible(False)\n",
    "#slider\n",
    "axcolor = 'lightgoldenrodyellow'\n",
    "axframe = plt.axes([0.25, 0.1, 0.65, 0.03], facecolor=axcolor)\n",
    "sframe = Slider(axframe, 'Frames', int(0), int(13), valinit=int(0), valstep=int(1))\n",
    "sframe.on_changed(buildmebarchart1)\n",
    "\n",
    "# resetax = plt.axes([0.8, 0.025, 0.1, 0.04])\n",
    "# button = Button(resetax, 'Reset', color=axcolor, hovercolor='0.975')\n",
    "\n",
    "\n",
    "# def reset(event):\n",
    "#     sframe.reset()\n",
    "# button.on_clicked(reset)\n",
    "\n",
    "# rax = plt.axes([0.025, 0.5, 0.15, 0.15], facecolor=axcolor)\n",
    "# radio = RadioButtons(rax, ('red', 'blue', 'green'), active=0)\n",
    "\n",
    "\n",
    "#def colorfunc(label):\n",
    " #   l.set_color(label)\n",
    " #   fig.canvas.draw_idle()\n",
    "#radio.on_clicked(colorfunc)\n",
    "\n",
    "plt.show()\n",
    "\n",
    "import matplotlib.animation as ani\n",
    "#animator = ani.FuncAnimation(fig14, buildmebarchart, interval = 500)\n",
    "plt.show()\n",
    "        "
   ]
  },
  {
   "cell_type": "code",
   "execution_count": 90,
   "id": "green-finnish",
   "metadata": {},
   "outputs": [
    {
     "name": "stderr",
     "output_type": "stream",
     "text": [
      "<ipython-input-90-3822f1fb4a92>:9: MatplotlibDeprecationWarning: Adding an axes using the same arguments as a previous axes currently reuses the earlier instance.  In a future version, a new instance will always be created and returned.  Meanwhile, this warning can be suppressed, and the future behavior ensured, by passing a unique label to each axes instance.\n",
      "  ax = plt.subplot()\n",
      "<ipython-input-90-3822f1fb4a92>:9: MatplotlibDeprecationWarning: Adding an axes using the same arguments as a previous axes currently reuses the earlier instance.  In a future version, a new instance will always be created and returned.  Meanwhile, this warning can be suppressed, and the future behavior ensured, by passing a unique label to each axes instance.\n",
      "  ax = plt.subplot()\n",
      "<ipython-input-90-3822f1fb4a92>:9: MatplotlibDeprecationWarning: Adding an axes using the same arguments as a previous axes currently reuses the earlier instance.  In a future version, a new instance will always be created and returned.  Meanwhile, this warning can be suppressed, and the future behavior ensured, by passing a unique label to each axes instance.\n",
      "  ax = plt.subplot()\n",
      "<ipython-input-90-3822f1fb4a92>:9: MatplotlibDeprecationWarning: Adding an axes using the same arguments as a previous axes currently reuses the earlier instance.  In a future version, a new instance will always be created and returned.  Meanwhile, this warning can be suppressed, and the future behavior ensured, by passing a unique label to each axes instance.\n",
      "  ax = plt.subplot()\n",
      "<ipython-input-90-3822f1fb4a92>:9: MatplotlibDeprecationWarning: Adding an axes using the same arguments as a previous axes currently reuses the earlier instance.  In a future version, a new instance will always be created and returned.  Meanwhile, this warning can be suppressed, and the future behavior ensured, by passing a unique label to each axes instance.\n",
      "  ax = plt.subplot()\n",
      "<ipython-input-90-3822f1fb4a92>:9: MatplotlibDeprecationWarning: Adding an axes using the same arguments as a previous axes currently reuses the earlier instance.  In a future version, a new instance will always be created and returned.  Meanwhile, this warning can be suppressed, and the future behavior ensured, by passing a unique label to each axes instance.\n",
      "  ax = plt.subplot()\n",
      "<ipython-input-90-3822f1fb4a92>:9: MatplotlibDeprecationWarning: Adding an axes using the same arguments as a previous axes currently reuses the earlier instance.  In a future version, a new instance will always be created and returned.  Meanwhile, this warning can be suppressed, and the future behavior ensured, by passing a unique label to each axes instance.\n",
      "  ax = plt.subplot()\n"
     ]
    }
   ],
   "source": [
    "fig15 = plt.figure(15)\n",
    "plt.subplots_adjust(left=0.25, bottom=0.25)\n",
    "\n",
    "plt.plot(np.arange(1,31), np.repeat(1,30), 'r--', label = 'Variance explained=100%')\n",
    "plt.ylim([0,1.1])\n",
    "#plt.title(str(2**(l+1))+ ' frames = ' + str((2**(l+1))/300))\n",
    "def buildmebarchart2(l = int):\n",
    "    #fig14.clear()\n",
    "    ax = plt.subplot()\n",
    "    ax.clear()\n",
    "    plt.title(str(2**(l+1))+ ' frames = ' + str(round((2**(l+1))/300,3))+ ' seconds')\n",
    "    plt.plot(np.arange(1,31), np.repeat(1,30), 'r--', label = 'Variance explained=100%')\n",
    "    plt.bar(np.arange(1,31), Pcs_frames[l], label='Variance explained')\n",
    "    plt.plot(np.arange(1,31),np.cumsum(Pcs_frames[l]),color='green', label='Cumulative sum of Variance explained')\n",
    "    plt.legend()\n",
    "    \n",
    "#slider\n",
    "axcolor = 'lightgoldenrodyellow'\n",
    "axframe = plt.axes([0.25, 0.1, 0.65, 0.03], facecolor=axcolor)\n",
    "sframe = Slider(axframe, 'Frames', int(0), int(13), valinit=int(0), valstep=int(1))\n",
    "sframe.on_changed(buildmebarchart2)\n",
    "\n",
    "plt.show()"
   ]
  },
  {
   "cell_type": "code",
   "execution_count": 91,
   "id": "registered-sensitivity",
   "metadata": {},
   "outputs": [
    {
     "data": {
      "text/plain": [
       "'0.003'"
      ]
     },
     "execution_count": 91,
     "metadata": {},
     "output_type": "execute_result"
    }
   ],
   "source": [
    "str(round(1/300,3))"
   ]
  },
  {
   "cell_type": "code",
   "execution_count": 92,
   "id": "seventh-illness",
   "metadata": {},
   "outputs": [
    {
     "data": {
      "text/plain": [
       "(30, 30)"
      ]
     },
     "execution_count": 92,
     "metadata": {},
     "output_type": "execute_result"
    }
   ],
   "source": [
    "# let's make 3d plots of each of the poses\n",
    "np.shape(Pcvecs_frames[-1])"
   ]
  },
  {
   "cell_type": "code",
   "execution_count": 93,
   "id": "mineral-athletics",
   "metadata": {},
   "outputs": [
    {
     "name": "stdout",
     "output_type": "stream",
     "text": [
      "0\n",
      "1\n",
      "2\n",
      "0\n",
      "1\n",
      "2\n",
      "0\n",
      "1\n",
      "2\n",
      "0\n",
      "1\n",
      "2\n",
      "0\n",
      "1\n",
      "2\n",
      "0\n",
      "1\n",
      "2\n",
      "0\n",
      "1\n",
      "2\n",
      "0\n",
      "1\n",
      "2\n",
      "0\n",
      "1\n",
      "2\n",
      "0\n",
      "1\n",
      "2\n"
     ]
    }
   ],
   "source": [
    "for i in range(30):\n",
    "    print(i%3)"
   ]
  },
  {
   "cell_type": "code",
   "execution_count": 94,
   "id": "complete-taste",
   "metadata": {},
   "outputs": [],
   "source": [
    "# #so every three corresponds to a single marker\n",
    "# def poseextraction(vector):\n",
    "#     vectors\n",
    "#     for i in range(len(vectors)):\n",
    "#         if i%3 == 0:\n",
    "            "
   ]
  },
  {
   "cell_type": "code",
   "execution_count": 95,
   "id": "herbal-riding",
   "metadata": {},
   "outputs": [
    {
     "data": {
      "text/plain": [
       "14"
      ]
     },
     "execution_count": 95,
     "metadata": {},
     "output_type": "execute_result"
    }
   ],
   "source": [
    "len(Pcvecs_frames)"
   ]
  },
  {
   "cell_type": "code",
   "execution_count": 96,
   "id": "provincial-vegetation",
   "metadata": {},
   "outputs": [],
   "source": [
    "pose_vector_all = []\n",
    "for i in range(len(Pcvecs_frames)):\n",
    "    pose_vector_all.append(np.transpose(np.reshape(Pcvecs_frames[-1][:,i],[10,3])))"
   ]
  },
  {
   "cell_type": "code",
   "execution_count": 97,
   "id": "distant-guess",
   "metadata": {},
   "outputs": [
    {
     "data": {
      "text/plain": [
       "(30, 30)"
      ]
     },
     "execution_count": 97,
     "metadata": {},
     "output_type": "execute_result"
    }
   ],
   "source": [
    "np.shape(Pcvecs_frames[-1])"
   ]
  },
  {
   "cell_type": "code",
   "execution_count": 98,
   "id": "regular-dictionary",
   "metadata": {},
   "outputs": [],
   "source": [
    "eigen_poses = np.transpose(pose_vector_all)"
   ]
  },
  {
   "cell_type": "code",
   "execution_count": 99,
   "id": "rural-bishop",
   "metadata": {},
   "outputs": [
    {
     "data": {
      "text/plain": [
       "(10, 3, 14)"
      ]
     },
     "execution_count": 99,
     "metadata": {},
     "output_type": "execute_result"
    }
   ],
   "source": [
    "np.shape(eigen_poses)"
   ]
  },
  {
   "cell_type": "code",
   "execution_count": 100,
   "id": "exact-baltimore",
   "metadata": {},
   "outputs": [
    {
     "data": {
      "text/plain": [
       "(10, 3)"
      ]
     },
     "execution_count": 100,
     "metadata": {},
     "output_type": "execute_result"
    }
   ],
   "source": [
    "np.shape(mean_posemeh_ar)"
   ]
  },
  {
   "cell_type": "code",
   "execution_count": 101,
   "id": "broad-flour",
   "metadata": {},
   "outputs": [],
   "source": [
    "eigen_mice = eigen_poses\n"
   ]
  },
  {
   "cell_type": "code",
   "execution_count": 102,
   "id": "metropolitan-poison",
   "metadata": {},
   "outputs": [
    {
     "data": {
      "text/plain": [
       "(10, 3)"
      ]
     },
     "execution_count": 102,
     "metadata": {},
     "output_type": "execute_result"
    }
   ],
   "source": [
    "np.shape(eigen_mice[:,:,0])"
   ]
  },
  {
   "cell_type": "code",
   "execution_count": 104,
   "id": "finnish-possession",
   "metadata": {},
   "outputs": [
    {
     "name": "stdout",
     "output_type": "stream",
     "text": [
      "0\n",
      "1\n",
      "2\n",
      "3\n",
      "4\n",
      "5\n",
      "6\n",
      "7\n",
      "8\n",
      "9\n",
      "10\n",
      "11\n",
      "12\n",
      "13\n"
     ]
    }
   ],
   "source": [
    "for i in range(14):\n",
    "    eigen_mice[:,:,i] = eigen_mice[:,:,i]*10+ mean_posemeh_ar\n",
    "    print(i)\n",
    "    "
   ]
  },
  {
   "cell_type": "code",
   "execution_count": 106,
   "id": "caring-racing",
   "metadata": {},
   "outputs": [
    {
     "data": {
      "text/plain": [
       "Text(0.5, 0, 'Z')"
      ]
     },
     "execution_count": 106,
     "metadata": {},
     "output_type": "execute_result"
    }
   ],
   "source": [
    "fig16 = plt.figure(16)\n",
    "ax = plt.axes(projection='3d')\n",
    "\n",
    "for i in range(10):\n",
    "    ax.scatter(eigen_mice[:,0],eigen_mice[:,1],eigen_mice[:,2])\n",
    "\n",
    "ax.set_xlabel('X')\n",
    "ax.set_ylabel('Y')\n",
    "ax.set_zlabel('Z')"
   ]
  },
  {
   "cell_type": "code",
   "execution_count": 107,
   "id": "insured-denmark",
   "metadata": {},
   "outputs": [],
   "source": [
    "pose_vector_test = np.reshape(Pcvecs_frames[-1][:,0],[10,3])"
   ]
  },
  {
   "cell_type": "code",
   "execution_count": 108,
   "id": "olympic-annex",
   "metadata": {},
   "outputs": [
    {
     "data": {
      "text/plain": [
       "(10, 3)"
      ]
     },
     "execution_count": 108,
     "metadata": {},
     "output_type": "execute_result"
    }
   ],
   "source": [
    "np.shape(pose_vector_test)"
   ]
  },
  {
   "cell_type": "code",
   "execution_count": 109,
   "id": "parliamentary-dealer",
   "metadata": {},
   "outputs": [],
   "source": [
    "pose_vector_test = np.transpose(pose_vector_test)"
   ]
  },
  {
   "cell_type": "code",
   "execution_count": 110,
   "id": "danish-castle",
   "metadata": {},
   "outputs": [
    {
     "data": {
      "text/plain": [
       "(3, 10)"
      ]
     },
     "execution_count": 110,
     "metadata": {},
     "output_type": "execute_result"
    }
   ],
   "source": [
    "np.shape(pose_vector_test)"
   ]
  },
  {
   "cell_type": "code",
   "execution_count": 111,
   "id": "empty-christian",
   "metadata": {},
   "outputs": [
    {
     "name": "stdout",
     "output_type": "stream",
     "text": [
      "Using matplotlib backend: MacOSX\n"
     ]
    }
   ],
   "source": [
    "%matplotlib"
   ]
  },
  {
   "cell_type": "code",
   "execution_count": 112,
   "id": "treated-tattoo",
   "metadata": {},
   "outputs": [
    {
     "data": {
      "text/plain": [
       "Text(0.5, 0, 'Z')"
      ]
     },
     "execution_count": 112,
     "metadata": {},
     "output_type": "execute_result"
    }
   ],
   "source": [
    "fig16 = plt.figure(16)\n",
    "ax = plt.axes(projection='3d')\n",
    "\n",
    "\n",
    "ax.scatter(pose_vector_test[0,:],pose_vector_test[1,:],pose_vector_test[2,:])\n",
    "\n",
    "ax.set_xlabel('X')\n",
    "ax.set_ylabel('Y')\n",
    "ax.set_zlabel('Z')"
   ]
  },
  {
   "cell_type": "code",
   "execution_count": 113,
   "id": "indonesian-clearance",
   "metadata": {},
   "outputs": [
    {
     "data": {
      "text/plain": [
       "(10,)"
      ]
     },
     "execution_count": 113,
     "metadata": {},
     "output_type": "execute_result"
    }
   ],
   "source": [
    "np.shape(pose_vector_all[0][0])"
   ]
  },
  {
   "cell_type": "code",
   "execution_count": 114,
   "id": "asian-swift",
   "metadata": {},
   "outputs": [],
   "source": [
    "fig17 = plt.figure(17)\n",
    "\n",
    "plt.subplots_adjust(left=0.25, bottom=0.25)\n",
    "ax = plt.axes(projection='3d')\n",
    "#plt.plot(np.arange(1,31), np.repeat(1,30), 'r--', label = 'Variance explained=100%')\n",
    "#plt.ylim([0,1.1])\n",
    "#plt.title(str(2**(l+1))+ ' frames = ' + str((2**(l+1))/300))\n",
    "def buildmebarchart2(l = int):\n",
    "    #fig14.clear()\n",
    "    #ax = plt.axes(projection='3d')\n",
    "    ax.clear()\n",
    "    #plt.title(str(2**(l+1))+ ' frames = ' + str(round((2**(l+1))/300,3))+ ' seconds')\n",
    "    for k in range(10):\n",
    "        ax.scatter(pose_vector_all[l][0,k],pose_vector_all[l][1,k],pose_vector_all[l][2,k])\n",
    "#slider\n",
    "axcolor = 'lightgoldenrodyellow'\n",
    "axframe = plt.axes([0.25, 0.1, 0.65, 0.03], facecolor=axcolor)\n",
    "sframe = Slider(axframe, 'Frames', int(0), int(10), valinit=int(0), valstep=int(1))\n",
    "sframe.on_changed(buildmebarchart2)\n",
    "\n",
    "plt.show()"
   ]
  },
  {
   "cell_type": "code",
   "execution_count": 78,
   "id": "approved-worker",
   "metadata": {},
   "outputs": [],
   "source": [
    "#let's do the delay embedding\n",
    "def delay_matrix(ts,tau,N):\n",
    "    l = len(ts)\n",
    "    k = l-(N*tau)\n",
    "    delay_embed = []\n",
    "    for i in range(N):\n",
    "        delay_embed.append(ts[i*tau:k+(i*tau)])\n",
    "    return np.array(delay_embed)"
   ]
  },
  {
   "cell_type": "code",
   "execution_count": 79,
   "id": "republican-baltimore",
   "metadata": {},
   "outputs": [],
   "source": [
    "def trajectory_matrix_nd(tseries, tau_win, tau_lag=1, T_win=0):\n",
    "    \"\"\"This function constructs the trajectory matrix for a given n-dimensional time series\"\"\"\n",
    " #tau_win is the window size\n",
    " #tau_lag is a parameter that can be used to construct a lagged trajectory matrix\n",
    " #T_win can be used to pick a certain portion of the timeseries to be used in constructing the trajectory matrix\n",
    " # obtaining length and dimension of the time series\n",
    " #~~~~~~~~~~~~~~~~~~~~~~~~~~~~~~~~~~~~~~~~~~~~~~~~~~~~~~~~~~~~~~~~~~~~~~~~~~~~~~~~~~~~~~~~~~~~~~~~~~~~~#\n",
    " #preprocessing the timeseries to recast it in the required shape: length,dimension\n",
    "    if np.shape(tseries)[0]<np.shape(tseries)[1]:\n",
    "        tseries = np.transpose(tseries)\n",
    "    else:\n",
    "        tseries = tseries\n",
    "\n",
    "    length = np.shape(tseries)[0]\n",
    "    dimension = np.shape(tseries)[1]\n",
    "\n",
    " #choosing the length of the time series we want to use\n",
    "    if T_win==0:\n",
    "        tseries = tseries\n",
    "        chi = int((length-tau_win)/tau_lag)\n",
    "    else:\n",
    "        tseries = tseries[:T_win]\n",
    "        chi = int((T_win-tau_win)/tau_lag)\n",
    "\n",
    "#defining the trajectory matrix\n",
    "\n",
    "    eta = np.empty((chi,tau_win*dimension))\n",
    "\n",
    "    for i in range(dimension):\n",
    "        for j in range(chi): #iterating over the rows\n",
    "            eta[j,i*tau_win:i*tau_win+tau_win] = tseries[(j*(tau_lag)):j*(tau_lag)+tau_win, i]\n",
    "\n",
    "    eta = np.transpose(np.array(eta))\n",
    "    return eta"
   ]
  },
  {
   "cell_type": "code",
   "execution_count": 80,
   "id": "isolated-omega",
   "metadata": {},
   "outputs": [],
   "source": [
    "#let's do ssa on the trajectory matrix better resolution of cycles\n",
    "def SSA(trajectory_matrix):\n",
    "    covT = np.cov(np.transpose(trajectory_matrix))\n",
    "    u,s,v = np.linalg.svd(covT)\n",
    "    s_norm = s/sum(s)\n",
    "    #weighting the svecs\n",
    "    #weighted_svecs = []\n",
    "    #for i in range(len(s)):\n",
    "        #weighted_svecs.append(s_norm[i]*v[:,i])\n",
    "    #weighted_svecs = np.array(weighted_svecs)    \n",
    "    return s_norm, v"
   ]
  },
  {
   "cell_type": "code",
   "execution_count": 81,
   "id": "mental-carolina",
   "metadata": {},
   "outputs": [
    {
     "data": {
      "text/plain": [
       "(3, 18000)"
      ]
     },
     "execution_count": 81,
     "metadata": {},
     "output_type": "execute_result"
    }
   ],
   "source": [
    "np.shape(Knee_right_ct)"
   ]
  },
  {
   "cell_type": "code",
   "execution_count": 84,
   "id": "polish-programmer",
   "metadata": {},
   "outputs": [],
   "source": [
    "right_knee_ct_ = trajectory_matrix_nd(Knee_right_ct[:,:9000], 35)"
   ]
  },
  {
   "cell_type": "code",
   "execution_count": 85,
   "id": "roman-establishment",
   "metadata": {},
   "outputs": [
    {
     "data": {
      "text/plain": [
       "(105, 8965)"
      ]
     },
     "execution_count": 85,
     "metadata": {},
     "output_type": "execute_result"
    }
   ],
   "source": [
    "np.shape(right_knee_ct_)"
   ]
  },
  {
   "cell_type": "code",
   "execution_count": 86,
   "id": "neither-chicken",
   "metadata": {},
   "outputs": [],
   "source": [
    "ssa_right_knee_ct_35_svs, ssa_right_knee_ct_35_svecs = SSA(right_knee_ct_)"
   ]
  },
  {
   "cell_type": "code",
   "execution_count": 83,
   "id": "powered-house",
   "metadata": {},
   "outputs": [
    {
     "data": {
      "text/plain": [
       "9000"
      ]
     },
     "execution_count": 83,
     "metadata": {},
     "output_type": "execute_result"
    }
   ],
   "source": []
  },
  {
   "cell_type": "code",
   "execution_count": null,
   "id": "amazing-martial",
   "metadata": {},
   "outputs": [],
   "source": []
  }
 ],
 "metadata": {
  "kernelspec": {
   "display_name": "Python 3",
   "language": "python",
   "name": "python3"
  },
  "language_info": {
   "codemirror_mode": {
    "name": "ipython",
    "version": 3
   },
   "file_extension": ".py",
   "mimetype": "text/x-python",
   "name": "python",
   "nbconvert_exporter": "python",
   "pygments_lexer": "ipython3",
   "version": "3.8.5"
  }
 },
 "nbformat": 4,
 "nbformat_minor": 5
}
