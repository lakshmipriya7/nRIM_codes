{
 "cells": [
  {
   "cell_type": "markdown",
   "metadata": {},
   "source": [
    "# # Using mutual information to compute characyerisitc predicitive timescales:\n",
    "\n",
    "##   Average Mutual Information"
   ]
  },
  {
   "cell_type": "markdown",
   "metadata": {},
   "source": [
    "In this notebook I will try to demonstrate how to compute shannon entropy. To start with, my example system will be a unch of coin tosses, first one is a completely random coin toss, the second is a coin toss that has a time correlation of 3 tosses"
   ]
  },
  {
   "cell_type": "code",
   "execution_count": 1,
   "metadata": {},
   "outputs": [],
   "source": [
    "#importing required modules\n",
    "\n",
    "import numpy as np\n",
    "import matplotlib.pyplot as plt\n",
    "\n",
    "import seaborn as sns"
   ]
  },
  {
   "cell_type": "code",
   "execution_count": 2,
   "metadata": {},
   "outputs": [],
   "source": [
    "#setting plot style globally\n",
    "sns.set_style('darkgrid')"
   ]
  },
  {
   "cell_type": "code",
   "execution_count": 3,
   "metadata": {},
   "outputs": [],
   "source": [
    "#uncomment next line for interactive plots\n",
    "#%matplotlib"
   ]
  },
  {
   "cell_type": "markdown",
   "metadata": {},
   "source": [
    "Making a funciton that gives us coin tosses of length N with a correlation of k steps, with a bias of m percent"
   ]
  },
  {
   "cell_type": "code",
   "execution_count": 7,
   "metadata": {},
   "outputs": [
    {
     "data": {
      "text/plain": [
       "0"
      ]
     },
     "execution_count": 7,
     "metadata": {},
     "output_type": "execute_result"
    }
   ],
   "source": [
    "int(not(1))"
   ]
  },
  {
   "cell_type": "code",
   "execution_count": 8,
   "metadata": {},
   "outputs": [],
   "source": [
    "def coin_toss(N,k=0,m=0):\n",
    "    \"\"\"A function that generates a series of coin tosses. 1 = heads, 0 = tails\"\"\"\n",
    "    output = np.zeros(N)\n",
    "    if k == 0:\n",
    "        output = np.random.randint(2, size=N)\n",
    "        return output\n",
    "    #now the biased coin tosses\n",
    "    \n",
    "    if k != 0:\n",
    "        output[:k] = np.random.randint(2, size=k)\n",
    "        for i in range(N - k):\n",
    "            rand_no = np.random.uniform()\n",
    "            if rand_no >= (1.0 - abs(m)):\n",
    "                if m>0:\n",
    "                    output[k+i] = output[i]\n",
    "                elif m<0:\n",
    "                    output[k+i] = int(not(output[i]))\n",
    "                else:\n",
    "                    output[k+i] = np.random.randint(2)\n",
    "            else:\n",
    "                output[k+i] = np.random.randint(2)\n",
    "    return output\n",
    "                    \n",
    "                    \n",
    "                    \n",
    "            \n",
    "                    \n",
    "                    \n",
    "                    \n",
    "           \n",
    "\n",
    "                \n",
    "            \n",
    "        "
   ]
  },
  {
   "cell_type": "code",
   "execution_count": 30,
   "metadata": {},
   "outputs": [],
   "source": [
    "test = coin_toss(100,5,-0.75)"
   ]
  },
  {
   "cell_type": "markdown",
   "metadata": {},
   "source": [
    "Now that we have our random variable time series we try and compute mutual information!"
   ]
  },
  {
   "cell_type": "code",
   "execution_count": 33,
   "metadata": {},
   "outputs": [
    {
     "data": {
      "text/plain": [
       "array([[ 1,  4,  9],\n",
       "       [16, 25, 36]])"
      ]
     },
     "execution_count": 33,
     "metadata": {},
     "output_type": "execute_result"
    }
   ],
   "source": [
    "a = np.array([[1,2,3],[4,5,6]])\n",
    "np.multiply(a,a)"
   ]
  },
  {
   "cell_type": "code",
   "execution_count": 34,
   "metadata": {},
   "outputs": [],
   "source": [
    "def mutual_info(timeseries1,timeseries2,Bins=10):\n",
    "    \n",
    "    p1 = np.histogram(timeseries1,bins=Bins)\n",
    "    p2 = np.histogram(timeseries2,bins=Bins)\n",
    "    \n",
    "    p1p2 = np.histogram(timeseries1,timeseries2,bins=Bins)\n",
    "    \n",
    "    H1 = -sum(np.multiply(p1,np.log(p1)))\n",
    "    \n",
    "    H2 = -sum(np.multiply(p2,np.log(p2)))\n",
    "    \n",
    "    H1H2 = -sum(np.multiply(p1p2,np.log(p1p2)))\n",
    "    \n",
    "    MI = H1 + H2 - H1H2\n",
    "    \n",
    "    return MI\n",
    "    \n",
    "    "
   ]
  },
  {
   "cell_type": "code",
   "execution_count": null,
   "metadata": {},
   "outputs": [],
   "source": []
  }
 ],
 "metadata": {
  "kernelspec": {
   "display_name": "Python 3",
   "language": "python",
   "name": "python3"
  },
  "language_info": {
   "codemirror_mode": {
    "name": "ipython",
    "version": 3
   },
   "file_extension": ".py",
   "mimetype": "text/x-python",
   "name": "python",
   "nbconvert_exporter": "python",
   "pygments_lexer": "ipython3",
   "version": "3.7.6"
  }
 },
 "nbformat": 4,
 "nbformat_minor": 4
}
